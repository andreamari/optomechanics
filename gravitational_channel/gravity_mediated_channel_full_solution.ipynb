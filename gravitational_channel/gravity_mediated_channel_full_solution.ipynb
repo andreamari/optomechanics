{
 "cells": [
  {
   "cell_type": "markdown",
   "id": "a02604fe-b931-4500-b77f-303eec0933a1",
   "metadata": {},
   "source": [
    "# Gravitationally-induced transparency: Full solution assuming a linear gravitational interaction and the rotating wave approximation.\n",
    "\n",
    "This notebook reproduces the results reported in the paper *Can gravity mediate the transmission of quantum information?* and in particular the full solution of the dynamics discussed in *Appendix A*."
   ]
  },
  {
   "cell_type": "markdown",
   "id": "1e5739e7-1417-4141-a696-15f6ae09c3ba",
   "metadata": {},
   "source": [
    "## Theoretical model with rotating-wave approxmation"
   ]
  },
  {
   "cell_type": "markdown",
   "id": "6d192e02-b64b-4b0d-aa60-07e035b65884",
   "metadata": {},
   "source": [
    "The Hamiltonian of the global system is :\n",
    "\n",
    "$$\n",
    "\\begin{array}{ll}\n",
    "H  =&  \\hbar \\Delta a_1^\\dagger a_1 + \\hbar \\omega_{B} b_1^\\dagger b_1 + \\hbar \\Delta a_2^\\dagger a_2 + \\hbar \\omega_{B} b_2^\\dagger b_2 & \\text{(free modes)}\\\\\n",
    "   &+ \\hbar g (a_1 + a_1^\\dagger) (b_1 + b_1^\\dagger) + \\hbar g (a_2 + a_2^\\dagger) (b_2 + b_2^\\dagger) & \\text{(optomechanical interaction)}\\\\\n",
    "   & + \\hbar \\lambda (b_1 + b_1^\\dagger) (b_2 + b_2^\\dagger) & \\text{(gravitational interaction)} \\\\\n",
    "  &+ H_{\\rm env\\, A_1} + H_{\\rm env\\, B_1} + H_{\\rm env\\, A_2} + H_{\\rm env\\, B_2} &  \\text{(optical and mechanical environments)}  \\\\\n",
    "\\end{array}\n",
    "$$\n",
    "\n",
    "We now go in interaction picure with respect to \n",
    "\n",
    "$$H_0= \\hbar \\Delta a_1^\\dagger a_1 + \\hbar \\omega_{B} b_1^\\dagger b_1 +  \\hbar \\Delta a_2^\\dagger a_2 + \\hbar \\omega_{B} b_2^\\dagger b_2.\n",
    "$$\n",
    "\n",
    "In this reference, the bosonic operators are multiplied by a rotating complex phase:\n",
    "        \n",
    "$$a_j \\rightarrow   e^{i \\Delta t} a_j(t), \\quad b_j \\rightarrow  e^{i \\omega_{B} t} b_j(t).$$"
   ]
  },
  {
   "cell_type": "markdown",
   "id": "9f061187-f401-4975-aad7-f4e8612953b3",
   "metadata": {},
   "source": [
    "We are interested in enhancing *beam-splitter-like* interactions between the modes. Thus, we assume the following resonance condition:\n",
    "\n",
    "$$\n",
    "\\Delta= \\omega_B.\n",
    "$$\n",
    "\n",
    "In this regime, ignoring all terms rotating with frequency $2 \\omega_B$  (*rotating wave approximation*), the interaction Hamiltonian simplifies to:\n",
    "\n",
    "\n",
    "$$\n",
    "\\begin{array}{ll}\n",
    "H_I  =&  \\hbar g(a_1 b_1^\\dagger + a_1^\\dagger b_1 ) + \\hbar g(a_2 b_2^\\dagger + a_2^\\dagger b_2 )+ \\hbar \\lambda (b_1  b_2^\\dagger  + b_1^\\dagger b_2) \\\\\n",
    "  &+ H'_{\\rm env\\, A_1} + H'_{\\rm env\\, B_1} + H'_{\\rm env\\, A_2} + H'_{\\rm env\\, B_2}\\\\\n",
    "\\end{array}\n",
    "$$\n",
    "\n",
    "The open dynamics can be described by a system of quantum Langevin equations:\n",
    "\n",
    "\n",
    "$$\n",
    "\\frac{d{\\mathbf r}}{dt} = A {\\bf r}(t) + B {\\bf w}(t),\n",
    "$$\n",
    "\n",
    "\n",
    "\n",
    "where ${\\bf r}=(a_1, b_1, a_2, b_2)^\\top$ and ${\\bf w}=(a_{1_{\\rm in}}, b_{1_{\\rm in}}, a_{2_{\\rm in}}, b_{2_{\\rm in}})^\\top$  are two vectors containing the system operators and the noise operators respectively and where\n",
    "\n",
    "$$\n",
    "A = - \\begin{pmatrix}\n",
    "\\frac{\\kappa}{2} & i g & 0 & 0\\\\\n",
    "i g & \\frac{\\gamma}{2} & 0 & i \\lambda \\\\\n",
    "0& 0 &  \\frac{\\kappa}{2} & i g \\\\\n",
    "0& i \\lambda &  i g  & \\frac{\\gamma}{2}\n",
    "\\end{pmatrix},\n",
    "\\quad B = \\text{diag}(\\sqrt{\\kappa}, \\sqrt{\\gamma},\\sqrt{\\kappa},\\sqrt{\\gamma}).\n",
    "$$\n",
    "In the above matrices, we introduced the optical and mechanical damping rates, respectively represented as $\\kappa$ and $\\gamma$."
   ]
  },
  {
   "cell_type": "markdown",
   "id": "e3fcdc92-2e9e-46d1-90bf-b8eae9f07002",
   "metadata": {},
   "source": [
    "We assume white and Markovian noise, characterized by the following correlation functions:\n",
    "$$\n",
    "\\langle {\\bf w^\\dagger}(t) {\\bf w} (t')^\\top \\rangle = D \\, \\delta(t -t'),\n",
    "$$\n",
    "where\n",
    "$$\n",
    "D =\\text{diag}(0, N_T, 0, N_T)^\\top,\n",
    "$$\n",
    "where $N_T$ is the mean occupation number of the mechanical thermal bath, i.e., $N_T = [\\exp(\\hbar \\omega_B/k_B T) - 1]^{-1}$. "
   ]
  },
  {
   "cell_type": "markdown",
   "id": "6c71f5d9-f65b-4566-99d6-27a211214314",
   "metadata": {},
   "source": [
    "### Mapping the theoretical model to SymPy objects"
   ]
  },
  {
   "cell_type": "code",
   "execution_count": 1,
   "id": "162bbc05-7ecf-4237-931d-359fd9b19d2e",
   "metadata": {},
   "outputs": [],
   "source": [
    "import sympy as sp\n",
    "import numpy as np\n",
    "from matplotlib import pyplot as plt\n",
    "\n",
    "omega = sp.symbols(\"omega\", real=True)\n",
    "lam, g, kappa, gamma, N_T = sp.symbols(\"lambda, g, kappa, gamma, N_{T}\", real=True, positive=True)"
   ]
  },
  {
   "cell_type": "code",
   "execution_count": 2,
   "id": "1cddaacc-ad64-4621-886f-6356b5337cc2",
   "metadata": {},
   "outputs": [],
   "source": [
    "A = - sp.Matrix([[kappa / sp.S(2), sp.I * g, 0, 0], \n",
    "                [sp.I * g, + gamma /  sp.S(2), 0, sp.I * lam],\n",
    "                [0, 0,  kappa /  sp.S(2), sp.I * g], \n",
    "                [0, sp.I * lam,  sp.I * g, gamma / sp.S(2)]]\n",
    ") "
   ]
  },
  {
   "cell_type": "code",
   "execution_count": 3,
   "id": "e195d7bb-4d35-41bd-a54d-af098ae8a690",
   "metadata": {},
   "outputs": [],
   "source": [
    "B = sp.diag(sp.sqrt(kappa), sp.sqrt(gamma), sp.sqrt(kappa), sp.sqrt(gamma))"
   ]
  },
  {
   "cell_type": "code",
   "execution_count": 4,
   "id": "353039d5-d961-4428-a61e-86636906fcd8",
   "metadata": {},
   "outputs": [
    {
     "data": {
      "text/latex": [
       "$\\displaystyle \\left[\\begin{matrix}- \\frac{\\kappa}{2} & - i g & 0 & 0\\\\- i g & - \\frac{\\gamma}{2} & 0 & - i \\lambda\\\\0 & 0 & - \\frac{\\kappa}{2} & - i g\\\\0 & - i \\lambda & - i g & - \\frac{\\gamma}{2}\\end{matrix}\\right]$"
      ],
      "text/plain": [
       "Matrix([\n",
       "[-kappa/2,      -I*g,        0,         0],\n",
       "[    -I*g,  -gamma/2,        0, -I*lambda],\n",
       "[       0,         0, -kappa/2,      -I*g],\n",
       "[       0, -I*lambda,     -I*g,  -gamma/2]])"
      ]
     },
     "execution_count": 4,
     "metadata": {},
     "output_type": "execute_result"
    }
   ],
   "source": [
    "A"
   ]
  },
  {
   "cell_type": "code",
   "execution_count": 5,
   "id": "7a80bf64-cc11-4ddf-be98-c9ff4817f7c0",
   "metadata": {},
   "outputs": [
    {
     "data": {
      "text/latex": [
       "$\\displaystyle \\left[\\begin{matrix}\\sqrt{\\kappa} & 0 & 0 & 0\\\\0 & \\sqrt{\\gamma} & 0 & 0\\\\0 & 0 & \\sqrt{\\kappa} & 0\\\\0 & 0 & 0 & \\sqrt{\\gamma}\\end{matrix}\\right]$"
      ],
      "text/plain": [
       "Matrix([\n",
       "[sqrt(kappa),           0,           0,           0],\n",
       "[          0, sqrt(gamma),           0,           0],\n",
       "[          0,           0, sqrt(kappa),           0],\n",
       "[          0,           0,           0, sqrt(gamma)]])"
      ]
     },
     "execution_count": 5,
     "metadata": {},
     "output_type": "execute_result"
    }
   ],
   "source": [
    "B"
   ]
  },
  {
   "cell_type": "markdown",
   "id": "93f739da-a4d8-4c23-b456-d47a089c504a",
   "metadata": {},
   "source": [
    "## Solution in frequency domain"
   ]
  },
  {
   "cell_type": "markdown",
   "id": "629fb04b-77f1-4cbf-8b84-c2cba619052a",
   "metadata": {},
   "source": [
    "Let us define the Fourier transform of ${\\bf r}(t)$ and ${\\bf w}(t)$:\n",
    "\n",
    "$$\n",
    "{\\bf x}(\\omega) = \\frac{1}{\\sqrt{2\\pi}}\\int_{-\\infty}^{\\infty} dt e^{i \\omega t} {\\bf x}(t), \\qquad  {\\bf x} =  {\\bf r}, {\\bf w}.\n",
    "$$\n",
    "The correlation matrix of the noise vector in frequency space is:\n",
    "$$\n",
    "\\langle {\\bf w}(\\omega) {\\bf w}^T(\\omega') \\rangle = D \\, \\delta(\\omega + \\omega') .\n",
    "$$\n",
    "We can now transform the initial differential equation from the time domain to the frequency domain obtaining:\n",
    "$$ -i \\omega\\, {\\bf r}(\\omega) = A {\\bf r}(\\omega) + B  {\\bf w}(\\omega). $$\n",
    "Neglecting the initial transient solution, in the steady-state regime, we have: \n",
    "$${\\bf r}(\\omega) = -(i \\omega + A)^{-1}B{\\bf w}(\\omega).$$\n",
    "\n",
    "Defining\n",
    "$$ T(\\omega) := - (i \\omega + A)^{-1} B, $$\n",
    "we have:\n",
    "$$\n",
    "{\\bf r}(\\omega) = T(\\omega){\\bf w}(\\omega).\n",
    "$$\n"
   ]
  },
  {
   "cell_type": "code",
   "execution_count": 6,
   "id": "492fc6a3-8d9c-4f2b-b6e3-5184bdf2b8f2",
   "metadata": {},
   "outputs": [
    {
     "data": {
      "text/latex": [
       "$\\displaystyle \\left[\\begin{matrix}\\frac{- 8 g^{2} \\gamma + 16 i g^{2} \\omega - 2 \\gamma^{2} \\kappa + 4 i \\gamma^{2} \\omega + 8 i \\gamma \\kappa \\omega + 16 \\gamma \\omega^{2} - 8 \\kappa \\lambda^{2} + 8 \\kappa \\omega^{2} + 16 i \\lambda^{2} \\omega - 16 i \\omega^{3}}{16 g^{4} + 8 g^{2} \\gamma \\kappa - 16 i g^{2} \\gamma \\omega - 16 i g^{2} \\kappa \\omega - 32 g^{2} \\omega^{2} + \\gamma^{2} \\kappa^{2} - 4 i \\gamma^{2} \\kappa \\omega - 4 \\gamma^{2} \\omega^{2} - 4 i \\gamma \\kappa^{2} \\omega - 16 \\gamma \\kappa \\omega^{2} + 16 i \\gamma \\omega^{3} + 4 \\kappa^{2} \\lambda^{2} - 4 \\kappa^{2} \\omega^{2} - 16 i \\kappa \\lambda^{2} \\omega + 16 i \\kappa \\omega^{3} - 16 \\lambda^{2} \\omega^{2} + 16 \\omega^{4}} & \\frac{16 i g^{3} + 4 i g \\gamma \\kappa + 8 g \\gamma \\omega + 8 g \\kappa \\omega - 16 i g \\omega^{2}}{16 g^{4} + 8 g^{2} \\gamma \\kappa - 16 i g^{2} \\gamma \\omega - 16 i g^{2} \\kappa \\omega - 32 g^{2} \\omega^{2} + \\gamma^{2} \\kappa^{2} - 4 i \\gamma^{2} \\kappa \\omega - 4 \\gamma^{2} \\omega^{2} - 4 i \\gamma \\kappa^{2} \\omega - 16 \\gamma \\kappa \\omega^{2} + 16 i \\gamma \\omega^{3} + 4 \\kappa^{2} \\lambda^{2} - 4 \\kappa^{2} \\omega^{2} - 16 i \\kappa \\lambda^{2} \\omega + 16 i \\kappa \\omega^{3} - 16 \\lambda^{2} \\omega^{2} + 16 \\omega^{4}} & - \\frac{16 i g^{2} \\lambda}{16 g^{4} + 8 g^{2} \\gamma \\kappa - 16 i g^{2} \\gamma \\omega - 16 i g^{2} \\kappa \\omega - 32 g^{2} \\omega^{2} + \\gamma^{2} \\kappa^{2} - 4 i \\gamma^{2} \\kappa \\omega - 4 \\gamma^{2} \\omega^{2} - 4 i \\gamma \\kappa^{2} \\omega - 16 \\gamma \\kappa \\omega^{2} + 16 i \\gamma \\omega^{3} + 4 \\kappa^{2} \\lambda^{2} - 4 \\kappa^{2} \\omega^{2} - 16 i \\kappa \\lambda^{2} \\omega + 16 i \\kappa \\omega^{3} - 16 \\lambda^{2} \\omega^{2} + 16 \\omega^{4}} & \\frac{8 g \\kappa \\lambda - 16 i g \\lambda \\omega}{16 g^{4} + 8 g^{2} \\gamma \\kappa - 16 i g^{2} \\gamma \\omega - 16 i g^{2} \\kappa \\omega - 32 g^{2} \\omega^{2} + \\gamma^{2} \\kappa^{2} - 4 i \\gamma^{2} \\kappa \\omega - 4 \\gamma^{2} \\omega^{2} - 4 i \\gamma \\kappa^{2} \\omega - 16 \\gamma \\kappa \\omega^{2} + 16 i \\gamma \\omega^{3} + 4 \\kappa^{2} \\lambda^{2} - 4 \\kappa^{2} \\omega^{2} - 16 i \\kappa \\lambda^{2} \\omega + 16 i \\kappa \\omega^{3} - 16 \\lambda^{2} \\omega^{2} + 16 \\omega^{4}}\\\\\\frac{16 i g^{3} + 4 i g \\gamma \\kappa + 8 g \\gamma \\omega + 8 g \\kappa \\omega - 16 i g \\omega^{2}}{16 g^{4} + 8 g^{2} \\gamma \\kappa - 16 i g^{2} \\gamma \\omega - 16 i g^{2} \\kappa \\omega - 32 g^{2} \\omega^{2} + \\gamma^{2} \\kappa^{2} - 4 i \\gamma^{2} \\kappa \\omega - 4 \\gamma^{2} \\omega^{2} - 4 i \\gamma \\kappa^{2} \\omega - 16 \\gamma \\kappa \\omega^{2} + 16 i \\gamma \\omega^{3} + 4 \\kappa^{2} \\lambda^{2} - 4 \\kappa^{2} \\omega^{2} - 16 i \\kappa \\lambda^{2} \\omega + 16 i \\kappa \\omega^{3} - 16 \\lambda^{2} \\omega^{2} + 16 \\omega^{4}} & \\frac{- 8 g^{2} \\kappa + 16 i g^{2} \\omega - 2 \\gamma \\kappa^{2} + 8 i \\gamma \\kappa \\omega + 8 \\gamma \\omega^{2} + 4 i \\kappa^{2} \\omega + 16 \\kappa \\omega^{2} - 16 i \\omega^{3}}{16 g^{4} + 8 g^{2} \\gamma \\kappa - 16 i g^{2} \\gamma \\omega - 16 i g^{2} \\kappa \\omega - 32 g^{2} \\omega^{2} + \\gamma^{2} \\kappa^{2} - 4 i \\gamma^{2} \\kappa \\omega - 4 \\gamma^{2} \\omega^{2} - 4 i \\gamma \\kappa^{2} \\omega - 16 \\gamma \\kappa \\omega^{2} + 16 i \\gamma \\omega^{3} + 4 \\kappa^{2} \\lambda^{2} - 4 \\kappa^{2} \\omega^{2} - 16 i \\kappa \\lambda^{2} \\omega + 16 i \\kappa \\omega^{3} - 16 \\lambda^{2} \\omega^{2} + 16 \\omega^{4}} & \\frac{8 g \\kappa \\lambda - 16 i g \\lambda \\omega}{16 g^{4} + 8 g^{2} \\gamma \\kappa - 16 i g^{2} \\gamma \\omega - 16 i g^{2} \\kappa \\omega - 32 g^{2} \\omega^{2} + \\gamma^{2} \\kappa^{2} - 4 i \\gamma^{2} \\kappa \\omega - 4 \\gamma^{2} \\omega^{2} - 4 i \\gamma \\kappa^{2} \\omega - 16 \\gamma \\kappa \\omega^{2} + 16 i \\gamma \\omega^{3} + 4 \\kappa^{2} \\lambda^{2} - 4 \\kappa^{2} \\omega^{2} - 16 i \\kappa \\lambda^{2} \\omega + 16 i \\kappa \\omega^{3} - 16 \\lambda^{2} \\omega^{2} + 16 \\omega^{4}} & \\frac{4 i \\kappa^{2} \\lambda + 16 \\kappa \\lambda \\omega - 16 i \\lambda \\omega^{2}}{16 g^{4} + 8 g^{2} \\gamma \\kappa - 16 i g^{2} \\gamma \\omega - 16 i g^{2} \\kappa \\omega - 32 g^{2} \\omega^{2} + \\gamma^{2} \\kappa^{2} - 4 i \\gamma^{2} \\kappa \\omega - 4 \\gamma^{2} \\omega^{2} - 4 i \\gamma \\kappa^{2} \\omega - 16 \\gamma \\kappa \\omega^{2} + 16 i \\gamma \\omega^{3} + 4 \\kappa^{2} \\lambda^{2} - 4 \\kappa^{2} \\omega^{2} - 16 i \\kappa \\lambda^{2} \\omega + 16 i \\kappa \\omega^{3} - 16 \\lambda^{2} \\omega^{2} + 16 \\omega^{4}}\\\\- \\frac{16 i g^{2} \\lambda}{16 g^{4} + 8 g^{2} \\gamma \\kappa - 16 i g^{2} \\gamma \\omega - 16 i g^{2} \\kappa \\omega - 32 g^{2} \\omega^{2} + \\gamma^{2} \\kappa^{2} - 4 i \\gamma^{2} \\kappa \\omega - 4 \\gamma^{2} \\omega^{2} - 4 i \\gamma \\kappa^{2} \\omega - 16 \\gamma \\kappa \\omega^{2} + 16 i \\gamma \\omega^{3} + 4 \\kappa^{2} \\lambda^{2} - 4 \\kappa^{2} \\omega^{2} - 16 i \\kappa \\lambda^{2} \\omega + 16 i \\kappa \\omega^{3} - 16 \\lambda^{2} \\omega^{2} + 16 \\omega^{4}} & \\frac{8 g \\kappa \\lambda - 16 i g \\lambda \\omega}{16 g^{4} + 8 g^{2} \\gamma \\kappa - 16 i g^{2} \\gamma \\omega - 16 i g^{2} \\kappa \\omega - 32 g^{2} \\omega^{2} + \\gamma^{2} \\kappa^{2} - 4 i \\gamma^{2} \\kappa \\omega - 4 \\gamma^{2} \\omega^{2} - 4 i \\gamma \\kappa^{2} \\omega - 16 \\gamma \\kappa \\omega^{2} + 16 i \\gamma \\omega^{3} + 4 \\kappa^{2} \\lambda^{2} - 4 \\kappa^{2} \\omega^{2} - 16 i \\kappa \\lambda^{2} \\omega + 16 i \\kappa \\omega^{3} - 16 \\lambda^{2} \\omega^{2} + 16 \\omega^{4}} & \\frac{- 8 g^{2} \\gamma + 16 i g^{2} \\omega - 2 \\gamma^{2} \\kappa + 4 i \\gamma^{2} \\omega + 8 i \\gamma \\kappa \\omega + 16 \\gamma \\omega^{2} - 8 \\kappa \\lambda^{2} + 8 \\kappa \\omega^{2} + 16 i \\lambda^{2} \\omega - 16 i \\omega^{3}}{16 g^{4} + 8 g^{2} \\gamma \\kappa - 16 i g^{2} \\gamma \\omega - 16 i g^{2} \\kappa \\omega - 32 g^{2} \\omega^{2} + \\gamma^{2} \\kappa^{2} - 4 i \\gamma^{2} \\kappa \\omega - 4 \\gamma^{2} \\omega^{2} - 4 i \\gamma \\kappa^{2} \\omega - 16 \\gamma \\kappa \\omega^{2} + 16 i \\gamma \\omega^{3} + 4 \\kappa^{2} \\lambda^{2} - 4 \\kappa^{2} \\omega^{2} - 16 i \\kappa \\lambda^{2} \\omega + 16 i \\kappa \\omega^{3} - 16 \\lambda^{2} \\omega^{2} + 16 \\omega^{4}} & \\frac{16 i g^{3} + 4 i g \\gamma \\kappa + 8 g \\gamma \\omega + 8 g \\kappa \\omega - 16 i g \\omega^{2}}{16 g^{4} + 8 g^{2} \\gamma \\kappa - 16 i g^{2} \\gamma \\omega - 16 i g^{2} \\kappa \\omega - 32 g^{2} \\omega^{2} + \\gamma^{2} \\kappa^{2} - 4 i \\gamma^{2} \\kappa \\omega - 4 \\gamma^{2} \\omega^{2} - 4 i \\gamma \\kappa^{2} \\omega - 16 \\gamma \\kappa \\omega^{2} + 16 i \\gamma \\omega^{3} + 4 \\kappa^{2} \\lambda^{2} - 4 \\kappa^{2} \\omega^{2} - 16 i \\kappa \\lambda^{2} \\omega + 16 i \\kappa \\omega^{3} - 16 \\lambda^{2} \\omega^{2} + 16 \\omega^{4}}\\\\\\frac{8 g \\kappa \\lambda - 16 i g \\lambda \\omega}{16 g^{4} + 8 g^{2} \\gamma \\kappa - 16 i g^{2} \\gamma \\omega - 16 i g^{2} \\kappa \\omega - 32 g^{2} \\omega^{2} + \\gamma^{2} \\kappa^{2} - 4 i \\gamma^{2} \\kappa \\omega - 4 \\gamma^{2} \\omega^{2} - 4 i \\gamma \\kappa^{2} \\omega - 16 \\gamma \\kappa \\omega^{2} + 16 i \\gamma \\omega^{3} + 4 \\kappa^{2} \\lambda^{2} - 4 \\kappa^{2} \\omega^{2} - 16 i \\kappa \\lambda^{2} \\omega + 16 i \\kappa \\omega^{3} - 16 \\lambda^{2} \\omega^{2} + 16 \\omega^{4}} & \\frac{4 i \\kappa^{2} \\lambda + 16 \\kappa \\lambda \\omega - 16 i \\lambda \\omega^{2}}{16 g^{4} + 8 g^{2} \\gamma \\kappa - 16 i g^{2} \\gamma \\omega - 16 i g^{2} \\kappa \\omega - 32 g^{2} \\omega^{2} + \\gamma^{2} \\kappa^{2} - 4 i \\gamma^{2} \\kappa \\omega - 4 \\gamma^{2} \\omega^{2} - 4 i \\gamma \\kappa^{2} \\omega - 16 \\gamma \\kappa \\omega^{2} + 16 i \\gamma \\omega^{3} + 4 \\kappa^{2} \\lambda^{2} - 4 \\kappa^{2} \\omega^{2} - 16 i \\kappa \\lambda^{2} \\omega + 16 i \\kappa \\omega^{3} - 16 \\lambda^{2} \\omega^{2} + 16 \\omega^{4}} & \\frac{16 i g^{3} + 4 i g \\gamma \\kappa + 8 g \\gamma \\omega + 8 g \\kappa \\omega - 16 i g \\omega^{2}}{16 g^{4} + 8 g^{2} \\gamma \\kappa - 16 i g^{2} \\gamma \\omega - 16 i g^{2} \\kappa \\omega - 32 g^{2} \\omega^{2} + \\gamma^{2} \\kappa^{2} - 4 i \\gamma^{2} \\kappa \\omega - 4 \\gamma^{2} \\omega^{2} - 4 i \\gamma \\kappa^{2} \\omega - 16 \\gamma \\kappa \\omega^{2} + 16 i \\gamma \\omega^{3} + 4 \\kappa^{2} \\lambda^{2} - 4 \\kappa^{2} \\omega^{2} - 16 i \\kappa \\lambda^{2} \\omega + 16 i \\kappa \\omega^{3} - 16 \\lambda^{2} \\omega^{2} + 16 \\omega^{4}} & \\frac{- 8 g^{2} \\kappa + 16 i g^{2} \\omega - 2 \\gamma \\kappa^{2} + 8 i \\gamma \\kappa \\omega + 8 \\gamma \\omega^{2} + 4 i \\kappa^{2} \\omega + 16 \\kappa \\omega^{2} - 16 i \\omega^{3}}{16 g^{4} + 8 g^{2} \\gamma \\kappa - 16 i g^{2} \\gamma \\omega - 16 i g^{2} \\kappa \\omega - 32 g^{2} \\omega^{2} + \\gamma^{2} \\kappa^{2} - 4 i \\gamma^{2} \\kappa \\omega - 4 \\gamma^{2} \\omega^{2} - 4 i \\gamma \\kappa^{2} \\omega - 16 \\gamma \\kappa \\omega^{2} + 16 i \\gamma \\omega^{3} + 4 \\kappa^{2} \\lambda^{2} - 4 \\kappa^{2} \\omega^{2} - 16 i \\kappa \\lambda^{2} \\omega + 16 i \\kappa \\omega^{3} - 16 \\lambda^{2} \\omega^{2} + 16 \\omega^{4}}\\end{matrix}\\right]$"
      ],
      "text/plain": [
       "Matrix([\n",
       "[(-8*g**2*gamma + 16*I*g**2*omega - 2*gamma**2*kappa + 4*I*gamma**2*omega + 8*I*gamma*kappa*omega + 16*gamma*omega**2 - 8*kappa*lambda**2 + 8*kappa*omega**2 + 16*I*lambda**2*omega - 16*I*omega**3)/(16*g**4 + 8*g**2*gamma*kappa - 16*I*g**2*gamma*omega - 16*I*g**2*kappa*omega - 32*g**2*omega**2 + gamma**2*kappa**2 - 4*I*gamma**2*kappa*omega - 4*gamma**2*omega**2 - 4*I*gamma*kappa**2*omega - 16*gamma*kappa*omega**2 + 16*I*gamma*omega**3 + 4*kappa**2*lambda**2 - 4*kappa**2*omega**2 - 16*I*kappa*lambda**2*omega + 16*I*kappa*omega**3 - 16*lambda**2*omega**2 + 16*omega**4),                                                                    (16*I*g**3 + 4*I*g*gamma*kappa + 8*g*gamma*omega + 8*g*kappa*omega - 16*I*g*omega**2)/(16*g**4 + 8*g**2*gamma*kappa - 16*I*g**2*gamma*omega - 16*I*g**2*kappa*omega - 32*g**2*omega**2 + gamma**2*kappa**2 - 4*I*gamma**2*kappa*omega - 4*gamma**2*omega**2 - 4*I*gamma*kappa**2*omega - 16*gamma*kappa*omega**2 + 16*I*gamma*omega**3 + 4*kappa**2*lambda**2 - 4*kappa**2*omega**2 - 16*I*kappa*lambda**2*omega + 16*I*kappa*omega**3 - 16*lambda**2*omega**2 + 16*omega**4),                                                                                                                                                                                   -16*I*g**2*lambda/(16*g**4 + 8*g**2*gamma*kappa - 16*I*g**2*gamma*omega - 16*I*g**2*kappa*omega - 32*g**2*omega**2 + gamma**2*kappa**2 - 4*I*gamma**2*kappa*omega - 4*gamma**2*omega**2 - 4*I*gamma*kappa**2*omega - 16*gamma*kappa*omega**2 + 16*I*gamma*omega**3 + 4*kappa**2*lambda**2 - 4*kappa**2*omega**2 - 16*I*kappa*lambda**2*omega + 16*I*kappa*omega**3 - 16*lambda**2*omega**2 + 16*omega**4),                                                                                                                 (8*g*kappa*lambda - 16*I*g*lambda*omega)/(16*g**4 + 8*g**2*gamma*kappa - 16*I*g**2*gamma*omega - 16*I*g**2*kappa*omega - 32*g**2*omega**2 + gamma**2*kappa**2 - 4*I*gamma**2*kappa*omega - 4*gamma**2*omega**2 - 4*I*gamma*kappa**2*omega - 16*gamma*kappa*omega**2 + 16*I*gamma*omega**3 + 4*kappa**2*lambda**2 - 4*kappa**2*omega**2 - 16*I*kappa*lambda**2*omega + 16*I*kappa*omega**3 - 16*lambda**2*omega**2 + 16*omega**4)],\n",
       "[                                                                                                              (16*I*g**3 + 4*I*g*gamma*kappa + 8*g*gamma*omega + 8*g*kappa*omega - 16*I*g*omega**2)/(16*g**4 + 8*g**2*gamma*kappa - 16*I*g**2*gamma*omega - 16*I*g**2*kappa*omega - 32*g**2*omega**2 + gamma**2*kappa**2 - 4*I*gamma**2*kappa*omega - 4*gamma**2*omega**2 - 4*I*gamma*kappa**2*omega - 16*gamma*kappa*omega**2 + 16*I*gamma*omega**3 + 4*kappa**2*lambda**2 - 4*kappa**2*omega**2 - 16*I*kappa*lambda**2*omega + 16*I*kappa*omega**3 - 16*lambda**2*omega**2 + 16*omega**4), (-8*g**2*kappa + 16*I*g**2*omega - 2*gamma*kappa**2 + 8*I*gamma*kappa*omega + 8*gamma*omega**2 + 4*I*kappa**2*omega + 16*kappa*omega**2 - 16*I*omega**3)/(16*g**4 + 8*g**2*gamma*kappa - 16*I*g**2*gamma*omega - 16*I*g**2*kappa*omega - 32*g**2*omega**2 + gamma**2*kappa**2 - 4*I*gamma**2*kappa*omega - 4*gamma**2*omega**2 - 4*I*gamma*kappa**2*omega - 16*gamma*kappa*omega**2 + 16*I*gamma*omega**3 + 4*kappa**2*lambda**2 - 4*kappa**2*omega**2 - 16*I*kappa*lambda**2*omega + 16*I*kappa*omega**3 - 16*lambda**2*omega**2 + 16*omega**4),                                                                                                                                                            (8*g*kappa*lambda - 16*I*g*lambda*omega)/(16*g**4 + 8*g**2*gamma*kappa - 16*I*g**2*gamma*omega - 16*I*g**2*kappa*omega - 32*g**2*omega**2 + gamma**2*kappa**2 - 4*I*gamma**2*kappa*omega - 4*gamma**2*omega**2 - 4*I*gamma*kappa**2*omega - 16*gamma*kappa*omega**2 + 16*I*gamma*omega**3 + 4*kappa**2*lambda**2 - 4*kappa**2*omega**2 - 16*I*kappa*lambda**2*omega + 16*I*kappa*omega**3 - 16*lambda**2*omega**2 + 16*omega**4),                                                                                     (4*I*kappa**2*lambda + 16*kappa*lambda*omega - 16*I*lambda*omega**2)/(16*g**4 + 8*g**2*gamma*kappa - 16*I*g**2*gamma*omega - 16*I*g**2*kappa*omega - 32*g**2*omega**2 + gamma**2*kappa**2 - 4*I*gamma**2*kappa*omega - 4*gamma**2*omega**2 - 4*I*gamma*kappa**2*omega - 16*gamma*kappa*omega**2 + 16*I*gamma*omega**3 + 4*kappa**2*lambda**2 - 4*kappa**2*omega**2 - 16*I*kappa*lambda**2*omega + 16*I*kappa*omega**3 - 16*lambda**2*omega**2 + 16*omega**4)],\n",
       "[                                                                                                                                                                                  -16*I*g**2*lambda/(16*g**4 + 8*g**2*gamma*kappa - 16*I*g**2*gamma*omega - 16*I*g**2*kappa*omega - 32*g**2*omega**2 + gamma**2*kappa**2 - 4*I*gamma**2*kappa*omega - 4*gamma**2*omega**2 - 4*I*gamma*kappa**2*omega - 16*gamma*kappa*omega**2 + 16*I*gamma*omega**3 + 4*kappa**2*lambda**2 - 4*kappa**2*omega**2 - 16*I*kappa*lambda**2*omega + 16*I*kappa*omega**3 - 16*lambda**2*omega**2 + 16*omega**4),                                                                                                                 (8*g*kappa*lambda - 16*I*g*lambda*omega)/(16*g**4 + 8*g**2*gamma*kappa - 16*I*g**2*gamma*omega - 16*I*g**2*kappa*omega - 32*g**2*omega**2 + gamma**2*kappa**2 - 4*I*gamma**2*kappa*omega - 4*gamma**2*omega**2 - 4*I*gamma*kappa**2*omega - 16*gamma*kappa*omega**2 + 16*I*gamma*omega**3 + 4*kappa**2*lambda**2 - 4*kappa**2*omega**2 - 16*I*kappa*lambda**2*omega + 16*I*kappa*omega**3 - 16*lambda**2*omega**2 + 16*omega**4), (-8*g**2*gamma + 16*I*g**2*omega - 2*gamma**2*kappa + 4*I*gamma**2*omega + 8*I*gamma*kappa*omega + 16*gamma*omega**2 - 8*kappa*lambda**2 + 8*kappa*omega**2 + 16*I*lambda**2*omega - 16*I*omega**3)/(16*g**4 + 8*g**2*gamma*kappa - 16*I*g**2*gamma*omega - 16*I*g**2*kappa*omega - 32*g**2*omega**2 + gamma**2*kappa**2 - 4*I*gamma**2*kappa*omega - 4*gamma**2*omega**2 - 4*I*gamma*kappa**2*omega - 16*gamma*kappa*omega**2 + 16*I*gamma*omega**3 + 4*kappa**2*lambda**2 - 4*kappa**2*omega**2 - 16*I*kappa*lambda**2*omega + 16*I*kappa*omega**3 - 16*lambda**2*omega**2 + 16*omega**4),                                                                    (16*I*g**3 + 4*I*g*gamma*kappa + 8*g*gamma*omega + 8*g*kappa*omega - 16*I*g*omega**2)/(16*g**4 + 8*g**2*gamma*kappa - 16*I*g**2*gamma*omega - 16*I*g**2*kappa*omega - 32*g**2*omega**2 + gamma**2*kappa**2 - 4*I*gamma**2*kappa*omega - 4*gamma**2*omega**2 - 4*I*gamma*kappa**2*omega - 16*gamma*kappa*omega**2 + 16*I*gamma*omega**3 + 4*kappa**2*lambda**2 - 4*kappa**2*omega**2 - 16*I*kappa*lambda**2*omega + 16*I*kappa*omega**3 - 16*lambda**2*omega**2 + 16*omega**4)],\n",
       "[                                                                                                                                                           (8*g*kappa*lambda - 16*I*g*lambda*omega)/(16*g**4 + 8*g**2*gamma*kappa - 16*I*g**2*gamma*omega - 16*I*g**2*kappa*omega - 32*g**2*omega**2 + gamma**2*kappa**2 - 4*I*gamma**2*kappa*omega - 4*gamma**2*omega**2 - 4*I*gamma*kappa**2*omega - 16*gamma*kappa*omega**2 + 16*I*gamma*omega**3 + 4*kappa**2*lambda**2 - 4*kappa**2*omega**2 - 16*I*kappa*lambda**2*omega + 16*I*kappa*omega**3 - 16*lambda**2*omega**2 + 16*omega**4),                                                                                     (4*I*kappa**2*lambda + 16*kappa*lambda*omega - 16*I*lambda*omega**2)/(16*g**4 + 8*g**2*gamma*kappa - 16*I*g**2*gamma*omega - 16*I*g**2*kappa*omega - 32*g**2*omega**2 + gamma**2*kappa**2 - 4*I*gamma**2*kappa*omega - 4*gamma**2*omega**2 - 4*I*gamma*kappa**2*omega - 16*gamma*kappa*omega**2 + 16*I*gamma*omega**3 + 4*kappa**2*lambda**2 - 4*kappa**2*omega**2 - 16*I*kappa*lambda**2*omega + 16*I*kappa*omega**3 - 16*lambda**2*omega**2 + 16*omega**4),                                                                                                               (16*I*g**3 + 4*I*g*gamma*kappa + 8*g*gamma*omega + 8*g*kappa*omega - 16*I*g*omega**2)/(16*g**4 + 8*g**2*gamma*kappa - 16*I*g**2*gamma*omega - 16*I*g**2*kappa*omega - 32*g**2*omega**2 + gamma**2*kappa**2 - 4*I*gamma**2*kappa*omega - 4*gamma**2*omega**2 - 4*I*gamma*kappa**2*omega - 16*gamma*kappa*omega**2 + 16*I*gamma*omega**3 + 4*kappa**2*lambda**2 - 4*kappa**2*omega**2 - 16*I*kappa*lambda**2*omega + 16*I*kappa*omega**3 - 16*lambda**2*omega**2 + 16*omega**4), (-8*g**2*kappa + 16*I*g**2*omega - 2*gamma*kappa**2 + 8*I*gamma*kappa*omega + 8*gamma*omega**2 + 4*I*kappa**2*omega + 16*kappa*omega**2 - 16*I*omega**3)/(16*g**4 + 8*g**2*gamma*kappa - 16*I*g**2*gamma*omega - 16*I*g**2*kappa*omega - 32*g**2*omega**2 + gamma**2*kappa**2 - 4*I*gamma**2*kappa*omega - 4*gamma**2*omega**2 - 4*I*gamma*kappa**2*omega - 16*gamma*kappa*omega**2 + 16*I*gamma*omega**3 + 4*kappa**2*lambda**2 - 4*kappa**2*omega**2 - 16*I*kappa*lambda**2*omega + 16*I*kappa*omega**3 - 16*lambda**2*omega**2 + 16*omega**4)]])"
      ]
     },
     "execution_count": 6,
     "metadata": {},
     "output_type": "execute_result"
    }
   ],
   "source": [
    "G = sp.I * omega * sp.eye(4) + A\n",
    "\n",
    "G_inv = G.inv()\n",
    "G_inv"
   ]
  },
  {
   "cell_type": "code",
   "execution_count": 7,
   "id": "c3e98b9a-7647-41bf-9aef-771503e2e92d",
   "metadata": {},
   "outputs": [],
   "source": [
    "G_inv = sp.simplify(G_inv)"
   ]
  },
  {
   "cell_type": "code",
   "execution_count": 8,
   "id": "a68b939f-8e2a-47e8-b3b8-42fe3e3a402a",
   "metadata": {},
   "outputs": [
    {
     "data": {
      "text/latex": [
       "$\\displaystyle \\left[\\begin{matrix}- \\frac{2 \\sqrt{\\kappa} \\left(4 g^{2} \\gamma - 8 i g^{2} \\omega + \\gamma^{2} \\kappa - 2 i \\gamma^{2} \\omega - 4 i \\gamma \\kappa \\omega - 8 \\gamma \\omega^{2} + 4 \\kappa \\lambda^{2} - 4 \\kappa \\omega^{2} - 8 i \\lambda^{2} \\omega + 8 i \\omega^{3}\\right)}{- 16 g^{4} - 8 g^{2} \\gamma \\kappa + 16 i g^{2} \\gamma \\omega + 16 i g^{2} \\kappa \\omega + 32 g^{2} \\omega^{2} - \\gamma^{2} \\kappa^{2} + 4 i \\gamma^{2} \\kappa \\omega + 4 \\gamma^{2} \\omega^{2} + 4 i \\gamma \\kappa^{2} \\omega + 16 \\gamma \\kappa \\omega^{2} - 16 i \\gamma \\omega^{3} - 4 \\kappa^{2} \\lambda^{2} + 4 \\kappa^{2} \\omega^{2} + 16 i \\kappa \\lambda^{2} \\omega - 16 i \\kappa \\omega^{3} + 16 \\lambda^{2} \\omega^{2} - 16 \\omega^{4}} & - \\frac{4 g \\sqrt{\\gamma} \\left(- 4 i g^{2} - i \\gamma \\kappa - 2 \\gamma \\omega - 2 \\kappa \\omega + 4 i \\omega^{2}\\right)}{- 16 g^{4} - 8 g^{2} \\gamma \\kappa + 16 i g^{2} \\gamma \\omega + 16 i g^{2} \\kappa \\omega + 32 g^{2} \\omega^{2} - \\gamma^{2} \\kappa^{2} + 4 i \\gamma^{2} \\kappa \\omega + 4 \\gamma^{2} \\omega^{2} + 4 i \\gamma \\kappa^{2} \\omega + 16 \\gamma \\kappa \\omega^{2} - 16 i \\gamma \\omega^{3} - 4 \\kappa^{2} \\lambda^{2} + 4 \\kappa^{2} \\omega^{2} + 16 i \\kappa \\lambda^{2} \\omega - 16 i \\kappa \\omega^{3} + 16 \\lambda^{2} \\omega^{2} - 16 \\omega^{4}} & - \\frac{16 i g^{2} \\sqrt{\\kappa} \\lambda}{- 16 g^{4} - 8 g^{2} \\gamma \\kappa + 16 i g^{2} \\gamma \\omega + 16 i g^{2} \\kappa \\omega + 32 g^{2} \\omega^{2} - \\gamma^{2} \\kappa^{2} + 4 i \\gamma^{2} \\kappa \\omega + 4 \\gamma^{2} \\omega^{2} + 4 i \\gamma \\kappa^{2} \\omega + 16 \\gamma \\kappa \\omega^{2} - 16 i \\gamma \\omega^{3} - 4 \\kappa^{2} \\lambda^{2} + 4 \\kappa^{2} \\omega^{2} + 16 i \\kappa \\lambda^{2} \\omega - 16 i \\kappa \\omega^{3} + 16 \\lambda^{2} \\omega^{2} - 16 \\omega^{4}} & - \\frac{8 g \\sqrt{\\gamma} \\lambda \\left(- \\kappa + 2 i \\omega\\right)}{- 16 g^{4} - 8 g^{2} \\gamma \\kappa + 16 i g^{2} \\gamma \\omega + 16 i g^{2} \\kappa \\omega + 32 g^{2} \\omega^{2} - \\gamma^{2} \\kappa^{2} + 4 i \\gamma^{2} \\kappa \\omega + 4 \\gamma^{2} \\omega^{2} + 4 i \\gamma \\kappa^{2} \\omega + 16 \\gamma \\kappa \\omega^{2} - 16 i \\gamma \\omega^{3} - 4 \\kappa^{2} \\lambda^{2} + 4 \\kappa^{2} \\omega^{2} + 16 i \\kappa \\lambda^{2} \\omega - 16 i \\kappa \\omega^{3} + 16 \\lambda^{2} \\omega^{2} - 16 \\omega^{4}}\\\\- \\frac{4 g \\sqrt{\\kappa} \\left(- 4 i g^{2} - i \\gamma \\kappa - 2 \\gamma \\omega - 2 \\kappa \\omega + 4 i \\omega^{2}\\right)}{- 16 g^{4} - 8 g^{2} \\gamma \\kappa + 16 i g^{2} \\gamma \\omega + 16 i g^{2} \\kappa \\omega + 32 g^{2} \\omega^{2} - \\gamma^{2} \\kappa^{2} + 4 i \\gamma^{2} \\kappa \\omega + 4 \\gamma^{2} \\omega^{2} + 4 i \\gamma \\kappa^{2} \\omega + 16 \\gamma \\kappa \\omega^{2} - 16 i \\gamma \\omega^{3} - 4 \\kappa^{2} \\lambda^{2} + 4 \\kappa^{2} \\omega^{2} + 16 i \\kappa \\lambda^{2} \\omega - 16 i \\kappa \\omega^{3} + 16 \\lambda^{2} \\omega^{2} - 16 \\omega^{4}} & - \\frac{2 \\sqrt{\\gamma} \\left(4 g^{2} \\kappa - 8 i g^{2} \\omega + \\gamma \\kappa^{2} - 4 i \\gamma \\kappa \\omega - 4 \\gamma \\omega^{2} - 2 i \\kappa^{2} \\omega - 8 \\kappa \\omega^{2} + 8 i \\omega^{3}\\right)}{- 16 g^{4} - 8 g^{2} \\gamma \\kappa + 16 i g^{2} \\gamma \\omega + 16 i g^{2} \\kappa \\omega + 32 g^{2} \\omega^{2} - \\gamma^{2} \\kappa^{2} + 4 i \\gamma^{2} \\kappa \\omega + 4 \\gamma^{2} \\omega^{2} + 4 i \\gamma \\kappa^{2} \\omega + 16 \\gamma \\kappa \\omega^{2} - 16 i \\gamma \\omega^{3} - 4 \\kappa^{2} \\lambda^{2} + 4 \\kappa^{2} \\omega^{2} + 16 i \\kappa \\lambda^{2} \\omega - 16 i \\kappa \\omega^{3} + 16 \\lambda^{2} \\omega^{2} - 16 \\omega^{4}} & - \\frac{8 g \\sqrt{\\kappa} \\lambda \\left(- \\kappa + 2 i \\omega\\right)}{- 16 g^{4} - 8 g^{2} \\gamma \\kappa + 16 i g^{2} \\gamma \\omega + 16 i g^{2} \\kappa \\omega + 32 g^{2} \\omega^{2} - \\gamma^{2} \\kappa^{2} + 4 i \\gamma^{2} \\kappa \\omega + 4 \\gamma^{2} \\omega^{2} + 4 i \\gamma \\kappa^{2} \\omega + 16 \\gamma \\kappa \\omega^{2} - 16 i \\gamma \\omega^{3} - 4 \\kappa^{2} \\lambda^{2} + 4 \\kappa^{2} \\omega^{2} + 16 i \\kappa \\lambda^{2} \\omega - 16 i \\kappa \\omega^{3} + 16 \\lambda^{2} \\omega^{2} - 16 \\omega^{4}} & - \\frac{4 \\sqrt{\\gamma} \\lambda \\left(- i \\kappa^{2} - 4 \\kappa \\omega + 4 i \\omega^{2}\\right)}{- 16 g^{4} - 8 g^{2} \\gamma \\kappa + 16 i g^{2} \\gamma \\omega + 16 i g^{2} \\kappa \\omega + 32 g^{2} \\omega^{2} - \\gamma^{2} \\kappa^{2} + 4 i \\gamma^{2} \\kappa \\omega + 4 \\gamma^{2} \\omega^{2} + 4 i \\gamma \\kappa^{2} \\omega + 16 \\gamma \\kappa \\omega^{2} - 16 i \\gamma \\omega^{3} - 4 \\kappa^{2} \\lambda^{2} + 4 \\kappa^{2} \\omega^{2} + 16 i \\kappa \\lambda^{2} \\omega - 16 i \\kappa \\omega^{3} + 16 \\lambda^{2} \\omega^{2} - 16 \\omega^{4}}\\\\- \\frac{16 i g^{2} \\sqrt{\\kappa} \\lambda}{- 16 g^{4} - 8 g^{2} \\gamma \\kappa + 16 i g^{2} \\gamma \\omega + 16 i g^{2} \\kappa \\omega + 32 g^{2} \\omega^{2} - \\gamma^{2} \\kappa^{2} + 4 i \\gamma^{2} \\kappa \\omega + 4 \\gamma^{2} \\omega^{2} + 4 i \\gamma \\kappa^{2} \\omega + 16 \\gamma \\kappa \\omega^{2} - 16 i \\gamma \\omega^{3} - 4 \\kappa^{2} \\lambda^{2} + 4 \\kappa^{2} \\omega^{2} + 16 i \\kappa \\lambda^{2} \\omega - 16 i \\kappa \\omega^{3} + 16 \\lambda^{2} \\omega^{2} - 16 \\omega^{4}} & - \\frac{8 g \\sqrt{\\gamma} \\lambda \\left(- \\kappa + 2 i \\omega\\right)}{- 16 g^{4} - 8 g^{2} \\gamma \\kappa + 16 i g^{2} \\gamma \\omega + 16 i g^{2} \\kappa \\omega + 32 g^{2} \\omega^{2} - \\gamma^{2} \\kappa^{2} + 4 i \\gamma^{2} \\kappa \\omega + 4 \\gamma^{2} \\omega^{2} + 4 i \\gamma \\kappa^{2} \\omega + 16 \\gamma \\kappa \\omega^{2} - 16 i \\gamma \\omega^{3} - 4 \\kappa^{2} \\lambda^{2} + 4 \\kappa^{2} \\omega^{2} + 16 i \\kappa \\lambda^{2} \\omega - 16 i \\kappa \\omega^{3} + 16 \\lambda^{2} \\omega^{2} - 16 \\omega^{4}} & - \\frac{2 \\sqrt{\\kappa} \\left(4 g^{2} \\gamma - 8 i g^{2} \\omega + \\gamma^{2} \\kappa - 2 i \\gamma^{2} \\omega - 4 i \\gamma \\kappa \\omega - 8 \\gamma \\omega^{2} + 4 \\kappa \\lambda^{2} - 4 \\kappa \\omega^{2} - 8 i \\lambda^{2} \\omega + 8 i \\omega^{3}\\right)}{- 16 g^{4} - 8 g^{2} \\gamma \\kappa + 16 i g^{2} \\gamma \\omega + 16 i g^{2} \\kappa \\omega + 32 g^{2} \\omega^{2} - \\gamma^{2} \\kappa^{2} + 4 i \\gamma^{2} \\kappa \\omega + 4 \\gamma^{2} \\omega^{2} + 4 i \\gamma \\kappa^{2} \\omega + 16 \\gamma \\kappa \\omega^{2} - 16 i \\gamma \\omega^{3} - 4 \\kappa^{2} \\lambda^{2} + 4 \\kappa^{2} \\omega^{2} + 16 i \\kappa \\lambda^{2} \\omega - 16 i \\kappa \\omega^{3} + 16 \\lambda^{2} \\omega^{2} - 16 \\omega^{4}} & - \\frac{4 g \\sqrt{\\gamma} \\left(- 4 i g^{2} - i \\gamma \\kappa - 2 \\gamma \\omega - 2 \\kappa \\omega + 4 i \\omega^{2}\\right)}{- 16 g^{4} - 8 g^{2} \\gamma \\kappa + 16 i g^{2} \\gamma \\omega + 16 i g^{2} \\kappa \\omega + 32 g^{2} \\omega^{2} - \\gamma^{2} \\kappa^{2} + 4 i \\gamma^{2} \\kappa \\omega + 4 \\gamma^{2} \\omega^{2} + 4 i \\gamma \\kappa^{2} \\omega + 16 \\gamma \\kappa \\omega^{2} - 16 i \\gamma \\omega^{3} - 4 \\kappa^{2} \\lambda^{2} + 4 \\kappa^{2} \\omega^{2} + 16 i \\kappa \\lambda^{2} \\omega - 16 i \\kappa \\omega^{3} + 16 \\lambda^{2} \\omega^{2} - 16 \\omega^{4}}\\\\- \\frac{8 g \\sqrt{\\kappa} \\lambda \\left(- \\kappa + 2 i \\omega\\right)}{- 16 g^{4} - 8 g^{2} \\gamma \\kappa + 16 i g^{2} \\gamma \\omega + 16 i g^{2} \\kappa \\omega + 32 g^{2} \\omega^{2} - \\gamma^{2} \\kappa^{2} + 4 i \\gamma^{2} \\kappa \\omega + 4 \\gamma^{2} \\omega^{2} + 4 i \\gamma \\kappa^{2} \\omega + 16 \\gamma \\kappa \\omega^{2} - 16 i \\gamma \\omega^{3} - 4 \\kappa^{2} \\lambda^{2} + 4 \\kappa^{2} \\omega^{2} + 16 i \\kappa \\lambda^{2} \\omega - 16 i \\kappa \\omega^{3} + 16 \\lambda^{2} \\omega^{2} - 16 \\omega^{4}} & - \\frac{4 \\sqrt{\\gamma} \\lambda \\left(- i \\kappa^{2} - 4 \\kappa \\omega + 4 i \\omega^{2}\\right)}{- 16 g^{4} - 8 g^{2} \\gamma \\kappa + 16 i g^{2} \\gamma \\omega + 16 i g^{2} \\kappa \\omega + 32 g^{2} \\omega^{2} - \\gamma^{2} \\kappa^{2} + 4 i \\gamma^{2} \\kappa \\omega + 4 \\gamma^{2} \\omega^{2} + 4 i \\gamma \\kappa^{2} \\omega + 16 \\gamma \\kappa \\omega^{2} - 16 i \\gamma \\omega^{3} - 4 \\kappa^{2} \\lambda^{2} + 4 \\kappa^{2} \\omega^{2} + 16 i \\kappa \\lambda^{2} \\omega - 16 i \\kappa \\omega^{3} + 16 \\lambda^{2} \\omega^{2} - 16 \\omega^{4}} & - \\frac{4 g \\sqrt{\\kappa} \\left(- 4 i g^{2} - i \\gamma \\kappa - 2 \\gamma \\omega - 2 \\kappa \\omega + 4 i \\omega^{2}\\right)}{- 16 g^{4} - 8 g^{2} \\gamma \\kappa + 16 i g^{2} \\gamma \\omega + 16 i g^{2} \\kappa \\omega + 32 g^{2} \\omega^{2} - \\gamma^{2} \\kappa^{2} + 4 i \\gamma^{2} \\kappa \\omega + 4 \\gamma^{2} \\omega^{2} + 4 i \\gamma \\kappa^{2} \\omega + 16 \\gamma \\kappa \\omega^{2} - 16 i \\gamma \\omega^{3} - 4 \\kappa^{2} \\lambda^{2} + 4 \\kappa^{2} \\omega^{2} + 16 i \\kappa \\lambda^{2} \\omega - 16 i \\kappa \\omega^{3} + 16 \\lambda^{2} \\omega^{2} - 16 \\omega^{4}} & - \\frac{2 \\sqrt{\\gamma} \\left(4 g^{2} \\kappa - 8 i g^{2} \\omega + \\gamma \\kappa^{2} - 4 i \\gamma \\kappa \\omega - 4 \\gamma \\omega^{2} - 2 i \\kappa^{2} \\omega - 8 \\kappa \\omega^{2} + 8 i \\omega^{3}\\right)}{- 16 g^{4} - 8 g^{2} \\gamma \\kappa + 16 i g^{2} \\gamma \\omega + 16 i g^{2} \\kappa \\omega + 32 g^{2} \\omega^{2} - \\gamma^{2} \\kappa^{2} + 4 i \\gamma^{2} \\kappa \\omega + 4 \\gamma^{2} \\omega^{2} + 4 i \\gamma \\kappa^{2} \\omega + 16 \\gamma \\kappa \\omega^{2} - 16 i \\gamma \\omega^{3} - 4 \\kappa^{2} \\lambda^{2} + 4 \\kappa^{2} \\omega^{2} + 16 i \\kappa \\lambda^{2} \\omega - 16 i \\kappa \\omega^{3} + 16 \\lambda^{2} \\omega^{2} - 16 \\omega^{4}}\\end{matrix}\\right]$"
      ],
      "text/plain": [
       "Matrix([\n",
       "[-2*sqrt(kappa)*(4*g**2*gamma - 8*I*g**2*omega + gamma**2*kappa - 2*I*gamma**2*omega - 4*I*gamma*kappa*omega - 8*gamma*omega**2 + 4*kappa*lambda**2 - 4*kappa*omega**2 - 8*I*lambda**2*omega + 8*I*omega**3)/(-16*g**4 - 8*g**2*gamma*kappa + 16*I*g**2*gamma*omega + 16*I*g**2*kappa*omega + 32*g**2*omega**2 - gamma**2*kappa**2 + 4*I*gamma**2*kappa*omega + 4*gamma**2*omega**2 + 4*I*gamma*kappa**2*omega + 16*gamma*kappa*omega**2 - 16*I*gamma*omega**3 - 4*kappa**2*lambda**2 + 4*kappa**2*omega**2 + 16*I*kappa*lambda**2*omega - 16*I*kappa*omega**3 + 16*lambda**2*omega**2 - 16*omega**4),                                                                       -4*g*sqrt(gamma)*(-4*I*g**2 - I*gamma*kappa - 2*gamma*omega - 2*kappa*omega + 4*I*omega**2)/(-16*g**4 - 8*g**2*gamma*kappa + 16*I*g**2*gamma*omega + 16*I*g**2*kappa*omega + 32*g**2*omega**2 - gamma**2*kappa**2 + 4*I*gamma**2*kappa*omega + 4*gamma**2*omega**2 + 4*I*gamma*kappa**2*omega + 16*gamma*kappa*omega**2 - 16*I*gamma*omega**3 - 4*kappa**2*lambda**2 + 4*kappa**2*omega**2 + 16*I*kappa*lambda**2*omega - 16*I*kappa*omega**3 + 16*lambda**2*omega**2 - 16*omega**4),                                                                                                                                                                               -16*I*g**2*sqrt(kappa)*lambda/(-16*g**4 - 8*g**2*gamma*kappa + 16*I*g**2*gamma*omega + 16*I*g**2*kappa*omega + 32*g**2*omega**2 - gamma**2*kappa**2 + 4*I*gamma**2*kappa*omega + 4*gamma**2*omega**2 + 4*I*gamma*kappa**2*omega + 16*gamma*kappa*omega**2 - 16*I*gamma*omega**3 - 4*kappa**2*lambda**2 + 4*kappa**2*omega**2 + 16*I*kappa*lambda**2*omega - 16*I*kappa*omega**3 + 16*lambda**2*omega**2 - 16*omega**4),                                                                                                                      -8*g*sqrt(gamma)*lambda*(-kappa + 2*I*omega)/(-16*g**4 - 8*g**2*gamma*kappa + 16*I*g**2*gamma*omega + 16*I*g**2*kappa*omega + 32*g**2*omega**2 - gamma**2*kappa**2 + 4*I*gamma**2*kappa*omega + 4*gamma**2*omega**2 + 4*I*gamma*kappa**2*omega + 16*gamma*kappa*omega**2 - 16*I*gamma*omega**3 - 4*kappa**2*lambda**2 + 4*kappa**2*omega**2 + 16*I*kappa*lambda**2*omega - 16*I*kappa*omega**3 + 16*lambda**2*omega**2 - 16*omega**4)],\n",
       "[                                                                                                                -4*g*sqrt(kappa)*(-4*I*g**2 - I*gamma*kappa - 2*gamma*omega - 2*kappa*omega + 4*I*omega**2)/(-16*g**4 - 8*g**2*gamma*kappa + 16*I*g**2*gamma*omega + 16*I*g**2*kappa*omega + 32*g**2*omega**2 - gamma**2*kappa**2 + 4*I*gamma**2*kappa*omega + 4*gamma**2*omega**2 + 4*I*gamma*kappa**2*omega + 16*gamma*kappa*omega**2 - 16*I*gamma*omega**3 - 4*kappa**2*lambda**2 + 4*kappa**2*omega**2 + 16*I*kappa*lambda**2*omega - 16*I*kappa*omega**3 + 16*lambda**2*omega**2 - 16*omega**4), -2*sqrt(gamma)*(4*g**2*kappa - 8*I*g**2*omega + gamma*kappa**2 - 4*I*gamma*kappa*omega - 4*gamma*omega**2 - 2*I*kappa**2*omega - 8*kappa*omega**2 + 8*I*omega**3)/(-16*g**4 - 8*g**2*gamma*kappa + 16*I*g**2*gamma*omega + 16*I*g**2*kappa*omega + 32*g**2*omega**2 - gamma**2*kappa**2 + 4*I*gamma**2*kappa*omega + 4*gamma**2*omega**2 + 4*I*gamma*kappa**2*omega + 16*gamma*kappa*omega**2 - 16*I*gamma*omega**3 - 4*kappa**2*lambda**2 + 4*kappa**2*omega**2 + 16*I*kappa*lambda**2*omega - 16*I*kappa*omega**3 + 16*lambda**2*omega**2 - 16*omega**4),                                                                                                                                                                -8*g*sqrt(kappa)*lambda*(-kappa + 2*I*omega)/(-16*g**4 - 8*g**2*gamma*kappa + 16*I*g**2*gamma*omega + 16*I*g**2*kappa*omega + 32*g**2*omega**2 - gamma**2*kappa**2 + 4*I*gamma**2*kappa*omega + 4*gamma**2*omega**2 + 4*I*gamma*kappa**2*omega + 16*gamma*kappa*omega**2 - 16*I*gamma*omega**3 - 4*kappa**2*lambda**2 + 4*kappa**2*omega**2 + 16*I*kappa*lambda**2*omega - 16*I*kappa*omega**3 + 16*lambda**2*omega**2 - 16*omega**4),                                                                                                -4*sqrt(gamma)*lambda*(-I*kappa**2 - 4*kappa*omega + 4*I*omega**2)/(-16*g**4 - 8*g**2*gamma*kappa + 16*I*g**2*gamma*omega + 16*I*g**2*kappa*omega + 32*g**2*omega**2 - gamma**2*kappa**2 + 4*I*gamma**2*kappa*omega + 4*gamma**2*omega**2 + 4*I*gamma*kappa**2*omega + 16*gamma*kappa*omega**2 - 16*I*gamma*omega**3 - 4*kappa**2*lambda**2 + 4*kappa**2*omega**2 + 16*I*kappa*lambda**2*omega - 16*I*kappa*omega**3 + 16*lambda**2*omega**2 - 16*omega**4)],\n",
       "[                                                                                                                                                                              -16*I*g**2*sqrt(kappa)*lambda/(-16*g**4 - 8*g**2*gamma*kappa + 16*I*g**2*gamma*omega + 16*I*g**2*kappa*omega + 32*g**2*omega**2 - gamma**2*kappa**2 + 4*I*gamma**2*kappa*omega + 4*gamma**2*omega**2 + 4*I*gamma*kappa**2*omega + 16*gamma*kappa*omega**2 - 16*I*gamma*omega**3 - 4*kappa**2*lambda**2 + 4*kappa**2*omega**2 + 16*I*kappa*lambda**2*omega - 16*I*kappa*omega**3 + 16*lambda**2*omega**2 - 16*omega**4),                                                                                                                      -8*g*sqrt(gamma)*lambda*(-kappa + 2*I*omega)/(-16*g**4 - 8*g**2*gamma*kappa + 16*I*g**2*gamma*omega + 16*I*g**2*kappa*omega + 32*g**2*omega**2 - gamma**2*kappa**2 + 4*I*gamma**2*kappa*omega + 4*gamma**2*omega**2 + 4*I*gamma*kappa**2*omega + 16*gamma*kappa*omega**2 - 16*I*gamma*omega**3 - 4*kappa**2*lambda**2 + 4*kappa**2*omega**2 + 16*I*kappa*lambda**2*omega - 16*I*kappa*omega**3 + 16*lambda**2*omega**2 - 16*omega**4), -2*sqrt(kappa)*(4*g**2*gamma - 8*I*g**2*omega + gamma**2*kappa - 2*I*gamma**2*omega - 4*I*gamma*kappa*omega - 8*gamma*omega**2 + 4*kappa*lambda**2 - 4*kappa*omega**2 - 8*I*lambda**2*omega + 8*I*omega**3)/(-16*g**4 - 8*g**2*gamma*kappa + 16*I*g**2*gamma*omega + 16*I*g**2*kappa*omega + 32*g**2*omega**2 - gamma**2*kappa**2 + 4*I*gamma**2*kappa*omega + 4*gamma**2*omega**2 + 4*I*gamma*kappa**2*omega + 16*gamma*kappa*omega**2 - 16*I*gamma*omega**3 - 4*kappa**2*lambda**2 + 4*kappa**2*omega**2 + 16*I*kappa*lambda**2*omega - 16*I*kappa*omega**3 + 16*lambda**2*omega**2 - 16*omega**4),                                                                       -4*g*sqrt(gamma)*(-4*I*g**2 - I*gamma*kappa - 2*gamma*omega - 2*kappa*omega + 4*I*omega**2)/(-16*g**4 - 8*g**2*gamma*kappa + 16*I*g**2*gamma*omega + 16*I*g**2*kappa*omega + 32*g**2*omega**2 - gamma**2*kappa**2 + 4*I*gamma**2*kappa*omega + 4*gamma**2*omega**2 + 4*I*gamma*kappa**2*omega + 16*gamma*kappa*omega**2 - 16*I*gamma*omega**3 - 4*kappa**2*lambda**2 + 4*kappa**2*omega**2 + 16*I*kappa*lambda**2*omega - 16*I*kappa*omega**3 + 16*lambda**2*omega**2 - 16*omega**4)],\n",
       "[                                                                                                                                                               -8*g*sqrt(kappa)*lambda*(-kappa + 2*I*omega)/(-16*g**4 - 8*g**2*gamma*kappa + 16*I*g**2*gamma*omega + 16*I*g**2*kappa*omega + 32*g**2*omega**2 - gamma**2*kappa**2 + 4*I*gamma**2*kappa*omega + 4*gamma**2*omega**2 + 4*I*gamma*kappa**2*omega + 16*gamma*kappa*omega**2 - 16*I*gamma*omega**3 - 4*kappa**2*lambda**2 + 4*kappa**2*omega**2 + 16*I*kappa*lambda**2*omega - 16*I*kappa*omega**3 + 16*lambda**2*omega**2 - 16*omega**4),                                                                                                -4*sqrt(gamma)*lambda*(-I*kappa**2 - 4*kappa*omega + 4*I*omega**2)/(-16*g**4 - 8*g**2*gamma*kappa + 16*I*g**2*gamma*omega + 16*I*g**2*kappa*omega + 32*g**2*omega**2 - gamma**2*kappa**2 + 4*I*gamma**2*kappa*omega + 4*gamma**2*omega**2 + 4*I*gamma*kappa**2*omega + 16*gamma*kappa*omega**2 - 16*I*gamma*omega**3 - 4*kappa**2*lambda**2 + 4*kappa**2*omega**2 + 16*I*kappa*lambda**2*omega - 16*I*kappa*omega**3 + 16*lambda**2*omega**2 - 16*omega**4),                                                                                                                 -4*g*sqrt(kappa)*(-4*I*g**2 - I*gamma*kappa - 2*gamma*omega - 2*kappa*omega + 4*I*omega**2)/(-16*g**4 - 8*g**2*gamma*kappa + 16*I*g**2*gamma*omega + 16*I*g**2*kappa*omega + 32*g**2*omega**2 - gamma**2*kappa**2 + 4*I*gamma**2*kappa*omega + 4*gamma**2*omega**2 + 4*I*gamma*kappa**2*omega + 16*gamma*kappa*omega**2 - 16*I*gamma*omega**3 - 4*kappa**2*lambda**2 + 4*kappa**2*omega**2 + 16*I*kappa*lambda**2*omega - 16*I*kappa*omega**3 + 16*lambda**2*omega**2 - 16*omega**4), -2*sqrt(gamma)*(4*g**2*kappa - 8*I*g**2*omega + gamma*kappa**2 - 4*I*gamma*kappa*omega - 4*gamma*omega**2 - 2*I*kappa**2*omega - 8*kappa*omega**2 + 8*I*omega**3)/(-16*g**4 - 8*g**2*gamma*kappa + 16*I*g**2*gamma*omega + 16*I*g**2*kappa*omega + 32*g**2*omega**2 - gamma**2*kappa**2 + 4*I*gamma**2*kappa*omega + 4*gamma**2*omega**2 + 4*I*gamma*kappa**2*omega + 16*gamma*kappa*omega**2 - 16*I*gamma*omega**3 - 4*kappa**2*lambda**2 + 4*kappa**2*omega**2 + 16*I*kappa*lambda**2*omega - 16*I*kappa*omega**3 + 16*lambda**2*omega**2 - 16*omega**4)]])"
      ]
     },
     "execution_count": 8,
     "metadata": {},
     "output_type": "execute_result"
    }
   ],
   "source": [
    "T = - G_inv @ B\n",
    "T"
   ]
  },
  {
   "cell_type": "markdown",
   "id": "1d814de9-a222-4688-8635-910ae2191d0d",
   "metadata": {},
   "source": [
    "## Explicit solution for $a_2(\\omega)$"
   ]
  },
  {
   "cell_type": "markdown",
   "id": "1712119b-97f1-4431-95b4-3e20e33612f5",
   "metadata": {},
   "source": [
    "From the above general solution, we can extract the explicit expression for the Fourier transform of the intracavity mode of the second cavity $a_2(\\omega)$. Thanks to the linearity of the system, this is given by:\n",
    "\n",
    "$$\n",
    "a_2(\\omega) = \\tilde \\alpha_1 a_{1_{\\rm in}} + \\tilde \\beta_1 b_{1_{\\rm in}} +\\tilde \\alpha_2 a_{2_{\\rm in}} +\\tilde \\beta_2 b_{2_{\\rm in}} ,\n",
    "$$\n",
    "\n",
    "where the coefficients $\\tilde \\alpha_j$ and $\\tilde \\beta_j$ can be easily identified as specific matrix elements of $T(\\omega)$."
   ]
  },
  {
   "cell_type": "code",
   "execution_count": 9,
   "id": "1084c373-03e1-4bb8-bc80-079e909d3b41",
   "metadata": {},
   "outputs": [],
   "source": [
    "alpha_1_tilde = T[2, 0]\n",
    "beta_1_tilde = T[2, 1]\n",
    "alpha_2_tilde = T[2, 2]\n",
    "beta_2_tilde = T[2, 3]"
   ]
  },
  {
   "cell_type": "code",
   "execution_count": 10,
   "id": "b06f22ea-b74e-4332-a8b8-5335e01782f4",
   "metadata": {},
   "outputs": [
    {
     "data": {
      "text/latex": [
       "$\\displaystyle - \\frac{16 i g^{2} \\sqrt{\\kappa} \\lambda}{- 16 g^{4} - 8 g^{2} \\gamma \\kappa + 16 i g^{2} \\gamma \\omega + 16 i g^{2} \\kappa \\omega + 32 g^{2} \\omega^{2} - \\gamma^{2} \\kappa^{2} + 4 i \\gamma^{2} \\kappa \\omega + 4 \\gamma^{2} \\omega^{2} + 4 i \\gamma \\kappa^{2} \\omega + 16 \\gamma \\kappa \\omega^{2} - 16 i \\gamma \\omega^{3} - 4 \\kappa^{2} \\lambda^{2} + 4 \\kappa^{2} \\omega^{2} + 16 i \\kappa \\lambda^{2} \\omega - 16 i \\kappa \\omega^{3} + 16 \\lambda^{2} \\omega^{2} - 16 \\omega^{4}}$"
      ],
      "text/plain": [
       "-16*I*g**2*sqrt(kappa)*lambda/(-16*g**4 - 8*g**2*gamma*kappa + 16*I*g**2*gamma*omega + 16*I*g**2*kappa*omega + 32*g**2*omega**2 - gamma**2*kappa**2 + 4*I*gamma**2*kappa*omega + 4*gamma**2*omega**2 + 4*I*gamma*kappa**2*omega + 16*gamma*kappa*omega**2 - 16*I*gamma*omega**3 - 4*kappa**2*lambda**2 + 4*kappa**2*omega**2 + 16*I*kappa*lambda**2*omega - 16*I*kappa*omega**3 + 16*lambda**2*omega**2 - 16*omega**4)"
      ]
     },
     "metadata": {},
     "output_type": "display_data"
    },
    {
     "data": {
      "text/latex": [
       "$\\displaystyle - \\frac{8 g \\sqrt{\\gamma} \\lambda \\left(- \\kappa + 2 i \\omega\\right)}{- 16 g^{4} - 8 g^{2} \\gamma \\kappa + 16 i g^{2} \\gamma \\omega + 16 i g^{2} \\kappa \\omega + 32 g^{2} \\omega^{2} - \\gamma^{2} \\kappa^{2} + 4 i \\gamma^{2} \\kappa \\omega + 4 \\gamma^{2} \\omega^{2} + 4 i \\gamma \\kappa^{2} \\omega + 16 \\gamma \\kappa \\omega^{2} - 16 i \\gamma \\omega^{3} - 4 \\kappa^{2} \\lambda^{2} + 4 \\kappa^{2} \\omega^{2} + 16 i \\kappa \\lambda^{2} \\omega - 16 i \\kappa \\omega^{3} + 16 \\lambda^{2} \\omega^{2} - 16 \\omega^{4}}$"
      ],
      "text/plain": [
       "-8*g*sqrt(gamma)*lambda*(-kappa + 2*I*omega)/(-16*g**4 - 8*g**2*gamma*kappa + 16*I*g**2*gamma*omega + 16*I*g**2*kappa*omega + 32*g**2*omega**2 - gamma**2*kappa**2 + 4*I*gamma**2*kappa*omega + 4*gamma**2*omega**2 + 4*I*gamma*kappa**2*omega + 16*gamma*kappa*omega**2 - 16*I*gamma*omega**3 - 4*kappa**2*lambda**2 + 4*kappa**2*omega**2 + 16*I*kappa*lambda**2*omega - 16*I*kappa*omega**3 + 16*lambda**2*omega**2 - 16*omega**4)"
      ]
     },
     "metadata": {},
     "output_type": "display_data"
    },
    {
     "data": {
      "text/latex": [
       "$\\displaystyle - \\frac{2 \\sqrt{\\kappa} \\left(4 g^{2} \\gamma - 8 i g^{2} \\omega + \\gamma^{2} \\kappa - 2 i \\gamma^{2} \\omega - 4 i \\gamma \\kappa \\omega - 8 \\gamma \\omega^{2} + 4 \\kappa \\lambda^{2} - 4 \\kappa \\omega^{2} - 8 i \\lambda^{2} \\omega + 8 i \\omega^{3}\\right)}{- 16 g^{4} - 8 g^{2} \\gamma \\kappa + 16 i g^{2} \\gamma \\omega + 16 i g^{2} \\kappa \\omega + 32 g^{2} \\omega^{2} - \\gamma^{2} \\kappa^{2} + 4 i \\gamma^{2} \\kappa \\omega + 4 \\gamma^{2} \\omega^{2} + 4 i \\gamma \\kappa^{2} \\omega + 16 \\gamma \\kappa \\omega^{2} - 16 i \\gamma \\omega^{3} - 4 \\kappa^{2} \\lambda^{2} + 4 \\kappa^{2} \\omega^{2} + 16 i \\kappa \\lambda^{2} \\omega - 16 i \\kappa \\omega^{3} + 16 \\lambda^{2} \\omega^{2} - 16 \\omega^{4}}$"
      ],
      "text/plain": [
       "-2*sqrt(kappa)*(4*g**2*gamma - 8*I*g**2*omega + gamma**2*kappa - 2*I*gamma**2*omega - 4*I*gamma*kappa*omega - 8*gamma*omega**2 + 4*kappa*lambda**2 - 4*kappa*omega**2 - 8*I*lambda**2*omega + 8*I*omega**3)/(-16*g**4 - 8*g**2*gamma*kappa + 16*I*g**2*gamma*omega + 16*I*g**2*kappa*omega + 32*g**2*omega**2 - gamma**2*kappa**2 + 4*I*gamma**2*kappa*omega + 4*gamma**2*omega**2 + 4*I*gamma*kappa**2*omega + 16*gamma*kappa*omega**2 - 16*I*gamma*omega**3 - 4*kappa**2*lambda**2 + 4*kappa**2*omega**2 + 16*I*kappa*lambda**2*omega - 16*I*kappa*omega**3 + 16*lambda**2*omega**2 - 16*omega**4)"
      ]
     },
     "metadata": {},
     "output_type": "display_data"
    },
    {
     "data": {
      "text/latex": [
       "$\\displaystyle - \\frac{4 g \\sqrt{\\gamma} \\left(- 4 i g^{2} - i \\gamma \\kappa - 2 \\gamma \\omega - 2 \\kappa \\omega + 4 i \\omega^{2}\\right)}{- 16 g^{4} - 8 g^{2} \\gamma \\kappa + 16 i g^{2} \\gamma \\omega + 16 i g^{2} \\kappa \\omega + 32 g^{2} \\omega^{2} - \\gamma^{2} \\kappa^{2} + 4 i \\gamma^{2} \\kappa \\omega + 4 \\gamma^{2} \\omega^{2} + 4 i \\gamma \\kappa^{2} \\omega + 16 \\gamma \\kappa \\omega^{2} - 16 i \\gamma \\omega^{3} - 4 \\kappa^{2} \\lambda^{2} + 4 \\kappa^{2} \\omega^{2} + 16 i \\kappa \\lambda^{2} \\omega - 16 i \\kappa \\omega^{3} + 16 \\lambda^{2} \\omega^{2} - 16 \\omega^{4}}$"
      ],
      "text/plain": [
       "-4*g*sqrt(gamma)*(-4*I*g**2 - I*gamma*kappa - 2*gamma*omega - 2*kappa*omega + 4*I*omega**2)/(-16*g**4 - 8*g**2*gamma*kappa + 16*I*g**2*gamma*omega + 16*I*g**2*kappa*omega + 32*g**2*omega**2 - gamma**2*kappa**2 + 4*I*gamma**2*kappa*omega + 4*gamma**2*omega**2 + 4*I*gamma*kappa**2*omega + 16*gamma*kappa*omega**2 - 16*I*gamma*omega**3 - 4*kappa**2*lambda**2 + 4*kappa**2*omega**2 + 16*I*kappa*lambda**2*omega - 16*I*kappa*omega**3 + 16*lambda**2*omega**2 - 16*omega**4)"
      ]
     },
     "metadata": {},
     "output_type": "display_data"
    }
   ],
   "source": [
    "import IPython.display as disp  # Used to print in LaTeX form SymPy objects\n",
    " \n",
    "disp.display(alpha_1_tilde)\n",
    "disp.display(beta_1_tilde)\n",
    "disp.display(alpha_2_tilde)\n",
    "disp.display(beta_2_tilde)"
   ]
  },
  {
   "cell_type": "markdown",
   "id": "6914fdc4-d3fc-42e0-8068-f4103155feee",
   "metadata": {},
   "source": [
    "We see that the denominator is the same for all the coefficients and it is related to the determinant of the $G$ matrix. Indeed if we factorize $1/\\det G$ we get:\n",
    "\n",
    "$$\n",
    "a_2(\\omega) = \\frac{1}{\\det G} [\\tilde \\alpha_1' a_{1_{\\rm in}} + \\tilde \\beta_1' b_{1_{\\rm in}} + \\tilde \\alpha_2' a_{2_{\\rm in}} +\\tilde  \\beta_2' b_{2_{\\rm in}} ]\n",
    "$$\n",
    "\n",
    "where new coefficients are given by the following more compact expressions:"
   ]
  },
  {
   "cell_type": "code",
   "execution_count": 11,
   "id": "9bcb365b-319a-4ae8-953e-623444b7ab6f",
   "metadata": {},
   "outputs": [],
   "source": [
    "det_G = sp.det(G)"
   ]
  },
  {
   "cell_type": "code",
   "execution_count": 12,
   "id": "ea516f3c-ae7a-41d4-867e-be7ae4fc5a75",
   "metadata": {},
   "outputs": [
    {
     "data": {
      "text/latex": [
       "$\\displaystyle i g^{2} \\sqrt{\\kappa} \\lambda$"
      ],
      "text/plain": [
       "I*g**2*sqrt(kappa)*lambda"
      ]
     },
     "execution_count": 12,
     "metadata": {},
     "output_type": "execute_result"
    }
   ],
   "source": [
    "alpha_1_tilde_p = sp.simplify(alpha_1_tilde * det_G)\n",
    "alpha_1_tilde_p"
   ]
  },
  {
   "cell_type": "code",
   "execution_count": 13,
   "id": "e5df5355-c06e-43a7-800b-9be9b99b0a8f",
   "metadata": {},
   "outputs": [
    {
     "data": {
      "text/latex": [
       "$\\displaystyle \\frac{g \\sqrt{\\gamma} \\lambda \\left(- \\kappa + 2 i \\omega\\right)}{2}$"
      ],
      "text/plain": [
       "g*sqrt(gamma)*lambda*(-kappa + 2*I*omega)/2"
      ]
     },
     "execution_count": 13,
     "metadata": {},
     "output_type": "execute_result"
    }
   ],
   "source": [
    "beta_1_tilde_p = sp.simplify(beta_1_tilde * det_G)\n",
    "beta_1_tilde_p"
   ]
  },
  {
   "cell_type": "code",
   "execution_count": 14,
   "id": "affa52c6-5987-4c0f-9f7d-1ace381feca2",
   "metadata": {},
   "outputs": [
    {
     "data": {
      "text/latex": [
       "$\\displaystyle \\sqrt{\\kappa} \\left(\\frac{g^{2} \\gamma}{2} - i g^{2} \\omega + \\frac{\\gamma^{2} \\kappa}{8} - \\frac{i \\gamma^{2} \\omega}{4} - \\frac{i \\gamma \\kappa \\omega}{2} - \\gamma \\omega^{2} + \\frac{\\kappa \\lambda^{2}}{2} - \\frac{\\kappa \\omega^{2}}{2} - i \\lambda^{2} \\omega + i \\omega^{3}\\right)$"
      ],
      "text/plain": [
       "sqrt(kappa)*(g**2*gamma/2 - I*g**2*omega + gamma**2*kappa/8 - I*gamma**2*omega/4 - I*gamma*kappa*omega/2 - gamma*omega**2 + kappa*lambda**2/2 - kappa*omega**2/2 - I*lambda**2*omega + I*omega**3)"
      ]
     },
     "execution_count": 14,
     "metadata": {},
     "output_type": "execute_result"
    }
   ],
   "source": [
    "alpha_2_tilde_p = sp.simplify(alpha_2_tilde * det_G)\n",
    "alpha_2_tilde_p"
   ]
  },
  {
   "cell_type": "code",
   "execution_count": 15,
   "id": "9be424d1-d478-4970-afe5-45c1c2e57c04",
   "metadata": {},
   "outputs": [
    {
     "data": {
      "text/latex": [
       "$\\displaystyle \\frac{g \\sqrt{\\gamma} \\left(- 4 i g^{2} - i \\gamma \\kappa - 2 \\gamma \\omega - 2 \\kappa \\omega + 4 i \\omega^{2}\\right)}{4}$"
      ],
      "text/plain": [
       "g*sqrt(gamma)*(-4*I*g**2 - I*gamma*kappa - 2*gamma*omega - 2*kappa*omega + 4*I*omega**2)/4"
      ]
     },
     "execution_count": 15,
     "metadata": {},
     "output_type": "execute_result"
    }
   ],
   "source": [
    "beta_2_tilde_p = sp.simplify(beta_2_tilde * det_G)\n",
    "beta_2_tilde_p"
   ]
  },
  {
   "cell_type": "markdown",
   "id": "8fde1bc8-bde1-4cc5-91a2-b30d3a3f5b72",
   "metadata": {},
   "source": [
    "## Explicit solution for $a_{2_{\\rm out}}(\\omega)$\n",
    "\n",
    "We now focus on the output of the cavity mode $a_2$, i.e., $a_{2_{\\rm out}}$. \n",
    "So we look for the complex coefficients $\\alpha_j$ and $\\beta_j$ in the following formula:\n",
    "\n",
    "$$\n",
    "a_{2_{\\rm out}}(\\omega) = \\alpha_1 a_{1_{\\rm in}} + \\beta_1 b_{1_{\\rm in}} + \\alpha_2 a_{2_{\\rm in}} + \\beta_2 b_{2_{\\rm in}} \n",
    "$$\n",
    "In the previous section we evaluated a similar expression for the intracavity mode:\n",
    "$$\n",
    "a_2(\\omega) = \\tilde \\alpha_1 a_{1_{\\rm in}} + \\tilde \\beta_1 b_{1_{\\rm in}} + \\tilde \\alpha_2 a_{2_{\\rm in}} + \\tilde \\beta_2 b_{2_{\\rm in}} \n",
    "$$\n",
    "\n",
    "Using the standard input-output relation for quantum optical cavities \n",
    "$$a_{2_{\\rm out}}(\\omega) = \\sqrt{\\kappa_{2}}a_2(\\omega) - a_{2_{\\rm in}},$$\n",
    "\n",
    "we have:\n",
    "\n",
    "$$ \n",
    "\\alpha_1 = \\sqrt{\\kappa_{2}} \\tilde \\alpha_1 \\quad\n",
    "\\beta_1 = \\sqrt{\\kappa_{2}} \\tilde \\beta_1 \\quad\n",
    "\\alpha_2 =  \\sqrt{\\kappa_{2}} \\tilde \\alpha_2 -1 \\quad\n",
    "\\beta_1 = \\sqrt{\\kappa_{2}} \\tilde \\beta_1'\n",
    "$$"
   ]
  },
  {
   "cell_type": "code",
   "execution_count": 16,
   "id": "f5bee8db-f660-4570-90e7-6e9224a5fb47",
   "metadata": {},
   "outputs": [],
   "source": [
    "alpha_1 = sp.sqrt(kappa) * alpha_1_tilde\n",
    "beta_1 = sp.sqrt(kappa) * beta_1_tilde\n",
    "alpha_2 = sp.sqrt(kappa) * alpha_2_tilde - 1\n",
    "beta_2 = sp.sqrt(kappa) * beta_2_tilde"
   ]
  },
  {
   "cell_type": "markdown",
   "id": "f6420f2a-e6d9-423e-b99e-c7decf0f4d84",
   "metadata": {},
   "source": [
    "Factorizing $1/\\det G$, we get:\n",
    "\n",
    "$$\n",
    "a_{2_{\\rm out}}(\\omega) = \\frac{1}{\\det G} [ \\alpha_1' a_{1_{\\rm in}} + \\beta_1' b_{1_{\\rm in}} + \\alpha_2' a_{2_{\\rm in}} + \\beta_2' b_{2_{\\rm in}} ]\n",
    "$$\n",
    "\n",
    "where new coefficients are given by the following more compact expressions:"
   ]
  },
  {
   "cell_type": "code",
   "execution_count": 17,
   "id": "f428e2f8-9604-41f3-8b45-00ebb5489b88",
   "metadata": {},
   "outputs": [
    {
     "data": {
      "text/latex": [
       "$\\displaystyle i g^{2} \\kappa \\lambda$"
      ],
      "text/plain": [
       "I*g**2*kappa*lambda"
      ]
     },
     "execution_count": 17,
     "metadata": {},
     "output_type": "execute_result"
    }
   ],
   "source": [
    "alpha_1_p = sp.simplify(alpha_1 * det_G)\n",
    "alpha_1_p"
   ]
  },
  {
   "cell_type": "code",
   "execution_count": 18,
   "id": "689a69bf-3dc9-4cdc-9ba1-67cb1d542fd4",
   "metadata": {},
   "outputs": [
    {
     "data": {
      "text/latex": [
       "$\\displaystyle \\frac{g \\sqrt{\\gamma} \\sqrt{\\kappa} \\lambda \\left(- \\kappa + 2 i \\omega\\right)}{2}$"
      ],
      "text/plain": [
       "g*sqrt(gamma)*sqrt(kappa)*lambda*(-kappa + 2*I*omega)/2"
      ]
     },
     "execution_count": 18,
     "metadata": {},
     "output_type": "execute_result"
    }
   ],
   "source": [
    "beta_1_p = sp.simplify(beta_1 * det_G )\n",
    "beta_1_p"
   ]
  },
  {
   "cell_type": "code",
   "execution_count": 19,
   "id": "32f9d822-7234-4808-a47d-75de1f84a9d2",
   "metadata": {},
   "outputs": [
    {
     "data": {
      "text/latex": [
       "$\\displaystyle - g^{4} + i g^{2} \\gamma \\omega + 2 g^{2} \\omega^{2} + \\frac{\\gamma^{2} \\kappa^{2}}{16} + \\frac{\\gamma^{2} \\omega^{2}}{4} - \\frac{i \\gamma \\kappa^{2} \\omega}{4} - i \\gamma \\omega^{3} + \\frac{\\kappa^{2} \\lambda^{2}}{4} - \\frac{\\kappa^{2} \\omega^{2}}{4} + \\lambda^{2} \\omega^{2} - \\omega^{4}$"
      ],
      "text/plain": [
       "-g**4 + I*g**2*gamma*omega + 2*g**2*omega**2 + gamma**2*kappa**2/16 + gamma**2*omega**2/4 - I*gamma*kappa**2*omega/4 - I*gamma*omega**3 + kappa**2*lambda**2/4 - kappa**2*omega**2/4 + lambda**2*omega**2 - omega**4"
      ]
     },
     "execution_count": 19,
     "metadata": {},
     "output_type": "execute_result"
    }
   ],
   "source": [
    "alpha_2_p = sp.simplify(alpha_2 * det_G)\n",
    "alpha_2_p"
   ]
  },
  {
   "cell_type": "code",
   "execution_count": 20,
   "id": "08051921-1752-4977-93e0-795e20be6236",
   "metadata": {},
   "outputs": [
    {
     "data": {
      "text/latex": [
       "$\\displaystyle \\frac{g \\sqrt{\\gamma} \\sqrt{\\kappa} \\left(- 4 i g^{2} - i \\gamma \\kappa - 2 \\gamma \\omega - 2 \\kappa \\omega + 4 i \\omega^{2}\\right)}{4}$"
      ],
      "text/plain": [
       "g*sqrt(gamma)*sqrt(kappa)*(-4*I*g**2 - I*gamma*kappa - 2*gamma*omega - 2*kappa*omega + 4*I*omega**2)/4"
      ]
     },
     "execution_count": 20,
     "metadata": {},
     "output_type": "execute_result"
    }
   ],
   "source": [
    "beta_2_p = sp.simplify(beta_2 * det_G)\n",
    "beta_2_p"
   ]
  },
  {
   "cell_type": "markdown",
   "id": "3743a2ee-48ed-4f01-9b6e-8269b0848306",
   "metadata": {},
   "source": [
    "The annihilation operator $a_{2_{\\rm out}}(\\omega)$ represents well defined physical quantum mode. So it must obey the canonical commutation relations\n",
    "$[a_{2_{\\rm out}}(\\omega), a_{2_{\\rm out}}^\\dagger(\\omega')]=\\delta(\\omega + \\omega').$\n",
    "Let's verify this is the indeed the case:"
   ]
  },
  {
   "cell_type": "code",
   "execution_count": 21,
   "id": "b4a2dda8-0cbf-47ec-a945-5016b9662197",
   "metadata": {},
   "outputs": [],
   "source": [
    "assert sp.simplify(sp.Abs(alpha_1)**2 + sp.Abs(beta_1)**2 + sp.Abs(alpha_2)**2 + sp.Abs(beta_2)**2) == 1"
   ]
  },
  {
   "cell_type": "markdown",
   "id": "d62e3c64-0f17-4f5c-bccd-96203760d631",
   "metadata": {
    "jp-MarkdownHeadingCollapsed": true
   },
   "source": [
    "## The gravity-mediated quantum channel is a Gaussian phase-insensitive attenuator.\n",
    "In the previous section we obtained al the coefficients in the following formula:\n",
    "$$\n",
    "a_{2_{\\rm out}}(\\omega) = \\alpha_1 a_{1_{\\rm in}}(\\omega) + \\beta_1 b_{1_{\\rm in}}(\\omega) + \\alpha_2 a_{2_{\\rm in}}(\\omega) + \\beta_2 b_{2_{\\rm in}}(\\omega). \n",
    "$$\n",
    "Now, if we consider the optical input mode $a_{1_{\\rm in}}$ as an \"input signal\" and all the remaining terms as environmental \"noise\", we can model the overall transmission from $a_{1_{in}}$ to $a_{2_{out}}$ as a quantum optical Gaussian channel. More precisely, since $|\\alpha_1|^2\\le 1$ (see above code cell), we obtain the so-called phase-insensitive quantum attenuator (up to an irrelevant phase space rotation)\n",
    "\n",
    "$$\\rho_{\\rm out} = \\mathcal{E}_{\\eta, N}(\\rho_{\\rm in}),$$\n",
    "which is completely characterized by the following two parameters\n",
    "$$\n",
    "\\eta(\\omega)= |\\alpha_1|^2, \\qquad N(\\omega)= (|\\beta_1|^2 + |\\beta_2|^2) N_{T}/(1 - \\eta),\n",
    "$$\n",
    "corresponding to the transmissivity and the environmental mean occupation number respectively.\n",
    "\n",
    "In the Heisenberg picture, the channel acts as a \"beam splitter\" mixing the input signal with an effective environmental mode $a^E(\\omega)$:\n",
    "\n",
    "$$\n",
    "a_{2_{\\rm out}}(\\omega) = \\sqrt{\\eta(\\omega)} e^{i \\varphi }a_{1_{\\rm in}}(\\omega) + \\sqrt{1 - \\eta(\\omega}) a^E(\\omega),\n",
    "$$\n",
    "\n",
    "where\n",
    "$$\n",
    "a^E(\\omega) = \\frac{\\beta_1 b_{1_{\\rm in}}(\\omega) + \\alpha_2 a_{2_{\\rm in}}(\\omega) + \\beta_2 b_{2_{\\rm in}}(\\omega)}{|\\beta_1|^2 + |\\beta_2|^2 + |\\alpha_2|^2} =\n",
    "\\frac{\\beta_1 b_{1_{\\rm in}}(\\omega) + \\alpha_2 a_{2_{\\rm in}}(\\omega) + \\beta_2 b_{2_{\\rm in}}(\\omega)}\n",
    "{1 - |\\alpha_1|^2} = \n",
    "\\frac{\\beta_1 b_{1_{\\rm in}}(\\omega) + \\alpha_2 a_{2_{\\rm in}}(\\omega) + \\beta_2 b_{2_{\\rm in}}(\\omega)}\n",
    "{1 - \\eta(\\omega)}\n",
    "$$\n",
    "and\n",
    "$$\n",
    "[a^E(\\omega), (a^{E}(\\omega'))^\\dagger] = \\delta(\\omega - \\omega') \\qquad \n",
    "\\langle (a^E(\\omega))^\\dagger, a^{E}(\\omega')\\rangle =  N(\\omega) \\delta(\\omega - \\omega') , \n",
    "\\qquad N(\\omega)=\\frac{(|\\beta_1|^2 +|\\beta_2|^2) N_T}{1 - \\eta(\\omega)} \\qquad e^{i \\varphi }=\\frac{\\alpha_1}{|\\alpha_1|}.\n",
    "$$\n",
    "\n",
    "In what follows we are going to neglect the phase-space rotation factor $e^{i \\varphi }$ since it can be absorbed as a change of reference frame for the input mode or for the output mode and, therefore, it is irrelevant with respect to non-classical properties of the channel discussed in the next section.\n",
    "\n",
    "\n"
   ]
  },
  {
   "cell_type": "markdown",
   "id": "c6281943-cc6a-4548-90c8-196b2b08b4c0",
   "metadata": {},
   "source": [
    "## Is the gravity-mediated attenuator channel \"classical\" or \"quantum\"?\n"
   ]
  },
  {
   "cell_type": "markdown",
   "id": "e77ba9bf-ed46-4068-8c60-c34cd9d3b39f",
   "metadata": {},
   "source": [
    "To answer this question we use concepts and methods from the field of quantum information theory. "
   ]
  },
  {
   "cell_type": "markdown",
   "id": "c19c4ecd-2d74-4b91-849c-af1d8a326b18",
   "metadata": {},
   "source": [
    "#### Entanglement-breaking criterion"
   ]
  },
  {
   "cell_type": "markdown",
   "id": "77622782-0b41-4938-8622-da9b1aeec9bb",
   "metadata": {},
   "source": [
    "A standard criterion to identify \"classical\" channels is given by the notion of *entanglement breaking channels* [1][2][3].\n",
    "\n",
    "**Definition** (Entanglement breaking channel): *If channel $\\Phi$ is said to be entanglement-breaking if, when applied to a subsystem of any entangled state, the result is always a separable state. More explicitly:*\n",
    "\n",
    "$$\n",
    "\\Phi \\;\\text{is entanglement-breaking} \\Longleftrightarrow   ( \\mathcal I \\otimes  \\Phi) (\\rho_{\\rm in})\\; \\text{is separable for any } \\rho_{\\rm in}.\n",
    "$$\n",
    "\n",
    "\n",
    "**Property**: A channel is entanglement breaking if and only if it can be implemented with local operations and classical communications (LOCC). [1][2][3].\n"
   ]
  },
  {
   "cell_type": "markdown",
   "id": "8d36f780-4fa6-47a8-a4f2-23bf8a992338",
   "metadata": {},
   "source": [
    "**Therefore, experimentally certifying that the quantum optical channel from $a_{1_{\\rm in}}(\\omega)$ to $a_{2_{\\rm out}}(\\omega)$ is not entanglement breaking, would imply that gravity is a non-classical mediator of quantum information. By \"non-classical\", we mean that the action of gravity on the two subsystems cannot be described by LOCC.**\n",
    "\n",
    "\n",
    "It is known that a noisy quantum limited attenuator $\\rho_{\\rm out} = \\mathcal{E}_{\\eta, N}(\\rho_{\\rm in})$ is entanglement breaking if and only if [3][4]:\n",
    "\n",
    "$$\n",
    " \\frac{\\eta}{N (1 - \\eta)} \\le 1.\n",
    "$$\n",
    "\n",
    "In the notation of this notebook, the condition becomes:\n",
    "\n",
    "$$\n",
    "\\frac{|\\alpha_1|^2}{(|\\beta_1|^2 +|\\beta_2|^2) N_T} \\le 1.\n",
    "$$\n"
   ]
  },
  {
   "cell_type": "code",
   "execution_count": 64,
   "id": "f172c66a-2a19-40e6-9768-2d7d1eed6104",
   "metadata": {},
   "outputs": [],
   "source": [
    "noise = sp.simplify((sp.Abs(beta_1)**2 + sp.Abs(beta_2)**2) * N_T)\n",
    "transmissivity = sp.simplify(sp.Abs(alpha_1)**2)"
   ]
  },
  {
   "cell_type": "code",
   "execution_count": 65,
   "id": "823ed92e-1aed-43a2-a69f-c7b49de230ea",
   "metadata": {
    "scrolled": true
   },
   "outputs": [
    {
     "data": {
      "text/latex": [
       "$\\displaystyle \\frac{256 g^{4} \\kappa^{2} \\lambda^{2}}{256 g^{8} + 256 g^{6} \\gamma \\kappa - 1024 g^{6} \\omega^{2} + 96 g^{4} \\gamma^{2} \\kappa^{2} + 128 g^{4} \\gamma^{2} \\omega^{2} - 512 g^{4} \\gamma \\kappa \\omega^{2} + 128 g^{4} \\kappa^{2} \\lambda^{2} + 128 g^{4} \\kappa^{2} \\omega^{2} - 512 g^{4} \\lambda^{2} \\omega^{2} + 1536 g^{4} \\omega^{4} + 16 g^{2} \\gamma^{3} \\kappa^{3} + 64 g^{2} \\gamma^{3} \\kappa \\omega^{2} - 64 g^{2} \\gamma^{2} \\kappa^{2} \\omega^{2} - 256 g^{2} \\gamma^{2} \\omega^{4} + 64 g^{2} \\gamma \\kappa^{3} \\lambda^{2} + 64 g^{2} \\gamma \\kappa^{3} \\omega^{2} + 256 g^{2} \\gamma \\kappa \\lambda^{2} \\omega^{2} + 256 g^{2} \\gamma \\kappa \\omega^{4} + 256 g^{2} \\kappa^{2} \\lambda^{2} \\omega^{2} - 256 g^{2} \\kappa^{2} \\omega^{4} + 1024 g^{2} \\lambda^{2} \\omega^{4} - 1024 g^{2} \\omega^{6} + \\gamma^{4} \\kappa^{4} + 8 \\gamma^{4} \\kappa^{2} \\omega^{2} + 16 \\gamma^{4} \\omega^{4} + 8 \\gamma^{2} \\kappa^{4} \\lambda^{2} + 8 \\gamma^{2} \\kappa^{4} \\omega^{2} + 64 \\gamma^{2} \\kappa^{2} \\lambda^{2} \\omega^{2} + 64 \\gamma^{2} \\kappa^{2} \\omega^{4} + 128 \\gamma^{2} \\lambda^{2} \\omega^{4} + 128 \\gamma^{2} \\omega^{6} + 16 \\kappa^{4} \\lambda^{4} - 32 \\kappa^{4} \\lambda^{2} \\omega^{2} + 16 \\kappa^{4} \\omega^{4} + 128 \\kappa^{2} \\lambda^{4} \\omega^{2} - 256 \\kappa^{2} \\lambda^{2} \\omega^{4} + 128 \\kappa^{2} \\omega^{6} + 256 \\lambda^{4} \\omega^{4} - 512 \\lambda^{2} \\omega^{6} + 256 \\omega^{8}}$"
      ],
      "text/plain": [
       "256*g**4*kappa**2*lambda**2/(256*g**8 + 256*g**6*gamma*kappa - 1024*g**6*omega**2 + 96*g**4*gamma**2*kappa**2 + 128*g**4*gamma**2*omega**2 - 512*g**4*gamma*kappa*omega**2 + 128*g**4*kappa**2*lambda**2 + 128*g**4*kappa**2*omega**2 - 512*g**4*lambda**2*omega**2 + 1536*g**4*omega**4 + 16*g**2*gamma**3*kappa**3 + 64*g**2*gamma**3*kappa*omega**2 - 64*g**2*gamma**2*kappa**2*omega**2 - 256*g**2*gamma**2*omega**4 + 64*g**2*gamma*kappa**3*lambda**2 + 64*g**2*gamma*kappa**3*omega**2 + 256*g**2*gamma*kappa*lambda**2*omega**2 + 256*g**2*gamma*kappa*omega**4 + 256*g**2*kappa**2*lambda**2*omega**2 - 256*g**2*kappa**2*omega**4 + 1024*g**2*lambda**2*omega**4 - 1024*g**2*omega**6 + gamma**4*kappa**4 + 8*gamma**4*kappa**2*omega**2 + 16*gamma**4*omega**4 + 8*gamma**2*kappa**4*lambda**2 + 8*gamma**2*kappa**4*omega**2 + 64*gamma**2*kappa**2*lambda**2*omega**2 + 64*gamma**2*kappa**2*omega**4 + 128*gamma**2*lambda**2*omega**4 + 128*gamma**2*omega**6 + 16*kappa**4*lambda**4 - 32*kappa**4*lambda**2*omega**2 + 16*kappa**4*omega**4 + 128*kappa**2*lambda**4*omega**2 - 256*kappa**2*lambda**2*omega**4 + 128*kappa**2*omega**6 + 256*lambda**4*omega**4 - 512*lambda**2*omega**6 + 256*omega**8)"
      ]
     },
     "execution_count": 65,
     "metadata": {},
     "output_type": "execute_result"
    }
   ],
   "source": [
    "sp.simplify((transmissivity))"
   ]
  },
  {
   "cell_type": "code",
   "execution_count": 66,
   "id": "4e628bdf-ad76-4ebb-b8ef-031ff2b6d32d",
   "metadata": {},
   "outputs": [
    {
     "data": {
      "text/latex": [
       "$\\displaystyle \\frac{16 N_{T} g^{2} \\gamma \\kappa \\left(16 g^{4} + 8 g^{2} \\gamma \\kappa - 32 g^{2} \\omega^{2} + \\gamma^{2} \\kappa^{2} + 4 \\gamma^{2} \\omega^{2} + 4 \\kappa^{2} \\omega^{2} + 4 \\lambda^{2} \\left(\\kappa^{2} + 4 \\omega^{2}\\right) + 16 \\omega^{4}\\right)}{256 g^{8} + 256 g^{6} \\gamma \\kappa - 1024 g^{6} \\omega^{2} + 96 g^{4} \\gamma^{2} \\kappa^{2} + 128 g^{4} \\gamma^{2} \\omega^{2} - 512 g^{4} \\gamma \\kappa \\omega^{2} + 128 g^{4} \\kappa^{2} \\lambda^{2} + 128 g^{4} \\kappa^{2} \\omega^{2} - 512 g^{4} \\lambda^{2} \\omega^{2} + 1536 g^{4} \\omega^{4} + 16 g^{2} \\gamma^{3} \\kappa^{3} + 64 g^{2} \\gamma^{3} \\kappa \\omega^{2} - 64 g^{2} \\gamma^{2} \\kappa^{2} \\omega^{2} - 256 g^{2} \\gamma^{2} \\omega^{4} + 64 g^{2} \\gamma \\kappa^{3} \\lambda^{2} + 64 g^{2} \\gamma \\kappa^{3} \\omega^{2} + 256 g^{2} \\gamma \\kappa \\lambda^{2} \\omega^{2} + 256 g^{2} \\gamma \\kappa \\omega^{4} + 256 g^{2} \\kappa^{2} \\lambda^{2} \\omega^{2} - 256 g^{2} \\kappa^{2} \\omega^{4} + 1024 g^{2} \\lambda^{2} \\omega^{4} - 1024 g^{2} \\omega^{6} + \\gamma^{4} \\kappa^{4} + 8 \\gamma^{4} \\kappa^{2} \\omega^{2} + 16 \\gamma^{4} \\omega^{4} + 8 \\gamma^{2} \\kappa^{4} \\lambda^{2} + 8 \\gamma^{2} \\kappa^{4} \\omega^{2} + 64 \\gamma^{2} \\kappa^{2} \\lambda^{2} \\omega^{2} + 64 \\gamma^{2} \\kappa^{2} \\omega^{4} + 128 \\gamma^{2} \\lambda^{2} \\omega^{4} + 128 \\gamma^{2} \\omega^{6} + 16 \\kappa^{4} \\lambda^{4} - 32 \\kappa^{4} \\lambda^{2} \\omega^{2} + 16 \\kappa^{4} \\omega^{4} + 128 \\kappa^{2} \\lambda^{4} \\omega^{2} - 256 \\kappa^{2} \\lambda^{2} \\omega^{4} + 128 \\kappa^{2} \\omega^{6} + 256 \\lambda^{4} \\omega^{4} - 512 \\lambda^{2} \\omega^{6} + 256 \\omega^{8}}$"
      ],
      "text/plain": [
       "16*N_{T}*g**2*gamma*kappa*(16*g**4 + 8*g**2*gamma*kappa - 32*g**2*omega**2 + gamma**2*kappa**2 + 4*gamma**2*omega**2 + 4*kappa**2*omega**2 + 4*lambda**2*(kappa**2 + 4*omega**2) + 16*omega**4)/(256*g**8 + 256*g**6*gamma*kappa - 1024*g**6*omega**2 + 96*g**4*gamma**2*kappa**2 + 128*g**4*gamma**2*omega**2 - 512*g**4*gamma*kappa*omega**2 + 128*g**4*kappa**2*lambda**2 + 128*g**4*kappa**2*omega**2 - 512*g**4*lambda**2*omega**2 + 1536*g**4*omega**4 + 16*g**2*gamma**3*kappa**3 + 64*g**2*gamma**3*kappa*omega**2 - 64*g**2*gamma**2*kappa**2*omega**2 - 256*g**2*gamma**2*omega**4 + 64*g**2*gamma*kappa**3*lambda**2 + 64*g**2*gamma*kappa**3*omega**2 + 256*g**2*gamma*kappa*lambda**2*omega**2 + 256*g**2*gamma*kappa*omega**4 + 256*g**2*kappa**2*lambda**2*omega**2 - 256*g**2*kappa**2*omega**4 + 1024*g**2*lambda**2*omega**4 - 1024*g**2*omega**6 + gamma**4*kappa**4 + 8*gamma**4*kappa**2*omega**2 + 16*gamma**4*omega**4 + 8*gamma**2*kappa**4*lambda**2 + 8*gamma**2*kappa**4*omega**2 + 64*gamma**2*kappa**2*lambda**2*omega**2 + 64*gamma**2*kappa**2*omega**4 + 128*gamma**2*lambda**2*omega**4 + 128*gamma**2*omega**6 + 16*kappa**4*lambda**4 - 32*kappa**4*lambda**2*omega**2 + 16*kappa**4*omega**4 + 128*kappa**2*lambda**4*omega**2 - 256*kappa**2*lambda**2*omega**4 + 128*kappa**2*omega**6 + 256*lambda**4*omega**4 - 512*lambda**2*omega**6 + 256*omega**8)"
      ]
     },
     "execution_count": 66,
     "metadata": {},
     "output_type": "execute_result"
    }
   ],
   "source": [
    "sp.simplify((noise))"
   ]
  },
  {
   "cell_type": "code",
   "execution_count": 67,
   "id": "7a8af6f9-636f-4e04-9bf4-f6f2b22ff5f8",
   "metadata": {},
   "outputs": [
    {
     "data": {
      "text/latex": [
       "$\\displaystyle \\frac{16 g^{2} \\kappa \\lambda^{2}}{N_{T} \\gamma \\left(16 g^{4} + 8 g^{2} \\gamma \\kappa - 32 g^{2} \\omega^{2} + \\gamma^{2} \\kappa^{2} + 4 \\gamma^{2} \\omega^{2} + 4 \\kappa^{2} \\omega^{2} + 4 \\lambda^{2} \\left(\\kappa^{2} + 4 \\omega^{2}\\right) + 16 \\omega^{4}\\right)}$"
      ],
      "text/plain": [
       "16*g**2*kappa*lambda**2/(N_{T}*gamma*(16*g**4 + 8*g**2*gamma*kappa - 32*g**2*omega**2 + gamma**2*kappa**2 + 4*gamma**2*omega**2 + 4*kappa**2*omega**2 + 4*lambda**2*(kappa**2 + 4*omega**2) + 16*omega**4))"
      ]
     },
     "execution_count": 67,
     "metadata": {},
     "output_type": "execute_result"
    }
   ],
   "source": [
    "general_ratio = sp.simplify((transmissivity/noise))\n",
    "general_ratio"
   ]
  },
  {
   "cell_type": "markdown",
   "id": "0254fc65-3653-4df5-8da8-9449cda91514",
   "metadata": {},
   "source": [
    "When the above expression is larger than 1, the gravity-induced channel is non-classical."
   ]
  },
  {
   "cell_type": "markdown",
   "id": "ac70bec7-008e-48b2-83dd-40436b7aeda1",
   "metadata": {},
   "source": [
    "## Analytical solution at $\\omega=0$\n",
    "\n",
    "We guess that the optimal frequency is the cavity resonance frequency which, in interaction picture, is $\\omega=0$.  \n",
    "So we try maximize the transmissivity-to-noise ratio at $\\omega=0$."
   ]
  },
  {
   "cell_type": "code",
   "execution_count": 68,
   "id": "338d79a4-701e-4aa9-b275-9c5746f08ac4",
   "metadata": {},
   "outputs": [
    {
     "data": {
      "text/latex": [
       "$\\displaystyle \\frac{16 g^{2} \\kappa \\lambda^{2}}{N_{T} \\gamma \\left(16 g^{4} + 8 g^{2} \\gamma \\kappa + \\gamma^{2} \\kappa^{2} + 4 \\kappa^{2} \\lambda^{2}\\right)}$"
      ],
      "text/plain": [
       "16*g**2*kappa*lambda**2/(N_{T}*gamma*(16*g**4 + 8*g**2*gamma*kappa + gamma**2*kappa**2 + 4*kappa**2*lambda**2))"
      ]
     },
     "execution_count": 68,
     "metadata": {},
     "output_type": "execute_result"
    }
   ],
   "source": [
    "ratio = sp.simplify((transmissivity/noise).subs(omega, 0))\n",
    "ratio    "
   ]
  },
  {
   "cell_type": "markdown",
   "id": "c875f692-2489-47a6-b881-413759229345",
   "metadata": {},
   "source": [
    "We optimize with respect to the optomechanical coupling constant $g$."
   ]
  },
  {
   "cell_type": "code",
   "execution_count": 71,
   "id": "91bfd4e6-2948-4b70-9d62-1ff83341fbd5",
   "metadata": {},
   "outputs": [
    {
     "data": {
      "text/latex": [
       "$\\displaystyle \\frac{\\sqrt{\\kappa} \\sqrt[4]{\\gamma^{2} + 4 \\lambda^{2}}}{2}$"
      ],
      "text/plain": [
       "sqrt(kappa)*(gamma**2 + 4*lambda**2)**(1/4)/2"
      ]
     },
     "execution_count": 71,
     "metadata": {},
     "output_type": "execute_result"
    }
   ],
   "source": [
    "g_opt = sp.solve(sp.simplify(sp.derive_by_array(ratio, g)), g)\n",
    "g_opt[0] "
   ]
  },
  {
   "cell_type": "code",
   "execution_count": 72,
   "id": "d594c66e-a965-457f-92b4-312d858a4f0c",
   "metadata": {},
   "outputs": [
    {
     "data": {
      "text/latex": [
       "$\\displaystyle \\frac{2 \\lambda^{2} \\sqrt{\\gamma^{2} + 4 \\lambda^{2}}}{N_{T} \\gamma \\left(\\gamma^{2} + \\gamma \\sqrt{\\gamma^{2} + 4 \\lambda^{2}} + 4 \\lambda^{2}\\right)}$"
      ],
      "text/plain": [
       "2*lambda**2*sqrt(gamma**2 + 4*lambda**2)/(N_{T}*gamma*(gamma**2 + gamma*sqrt(gamma**2 + 4*lambda**2) + 4*lambda**2))"
      ]
     },
     "execution_count": 72,
     "metadata": {},
     "output_type": "execute_result"
    }
   ],
   "source": [
    "ratio_opt = sp.simplify(ratio.subs(g, g_opt[0]))\n",
    "ratio_opt"
   ]
  },
  {
   "cell_type": "markdown",
   "id": "d711a9f5-ae25-4500-b9f4-e7e0fdb2acd3",
   "metadata": {},
   "source": [
    "Note that the square root in the numerator can be simplified even if SymPy did not."
   ]
  },
  {
   "cell_type": "code",
   "execution_count": 73,
   "id": "a46ecfd6-ef16-4423-907f-2da03b4a5643",
   "metadata": {},
   "outputs": [
    {
     "data": {
      "text/latex": [
       "$\\displaystyle \\frac{2 \\lambda^{2}}{N_{T} \\gamma^{2} \\left(\\sqrt{1 + \\frac{4 \\lambda^{2}}{\\gamma^{2}}} + 1\\right)}$"
      ],
      "text/plain": [
       "2*lambda**2/(N_{T}*gamma**2*(sqrt(1 + 4*lambda**2/gamma**2) + 1))"
      ]
     },
     "execution_count": 73,
     "metadata": {},
     "output_type": "execute_result"
    }
   ],
   "source": [
    "ratio_paper = 2 * lam**2 / gamma**2 / (N_T * (1 + sp.sqrt(1 + 4 * lam**2 / gamma**2)))\n",
    "ratio_paper"
   ]
  },
  {
   "cell_type": "code",
   "execution_count": 74,
   "id": "c2f0fe3b-b9fa-4bea-b0c8-878a56bdd0bb",
   "metadata": {},
   "outputs": [],
   "source": [
    "assert sp.simplify(ratio_opt - ratio_paper) == 0"
   ]
  },
  {
   "cell_type": "markdown",
   "id": "1ee1708a-7ec7-4ef7-977b-00d194e644ab",
   "metadata": {},
   "source": [
    "## Optimal transmissivity\n",
    "\n",
    "We now evaluate the optimal gravity-induced transmissivity at $g=g_{\\rm opt}$ and $\\omega=0$."
   ]
  },
  {
   "cell_type": "code",
   "execution_count": 75,
   "id": "518094b4-b380-4a8b-8066-d9ee02047046",
   "metadata": {},
   "outputs": [],
   "source": [
    "transmissivity_opt = sp.simplify(transmissivity.subs(omega, 0).subs(g, g_opt[0]))"
   ]
  },
  {
   "cell_type": "code",
   "execution_count": 76,
   "id": "27a3208b-b7c2-4e85-91b8-8ff1afdbb2c3",
   "metadata": {},
   "outputs": [
    {
     "data": {
      "text/latex": [
       "$\\displaystyle \\frac{2 \\lambda^{2}}{\\gamma^{2} + \\gamma \\sqrt{\\gamma^{2} + 4 \\lambda^{2}} + 2 \\lambda^{2}}$"
      ],
      "text/plain": [
       "2*lambda**2/(gamma**2 + gamma*sqrt(gamma**2 + 4*lambda**2) + 2*lambda**2)"
      ]
     },
     "execution_count": 76,
     "metadata": {},
     "output_type": "execute_result"
    }
   ],
   "source": [
    "transmissivity_opt"
   ]
  },
  {
   "cell_type": "code",
   "execution_count": 77,
   "id": "fb3235cf-1a37-4f86-a2f6-28e6a9b7379e",
   "metadata": {},
   "outputs": [
    {
     "data": {
      "text/latex": [
       "$\\displaystyle \\frac{2 \\lambda^{2}}{\\gamma^{2} \\left(\\sqrt{1 + \\frac{4 \\lambda^{2}}{\\gamma^{2}}} + 1 + \\frac{2 \\lambda^{2}}{\\gamma^{2}}\\right)}$"
      ],
      "text/plain": [
       "2*lambda**2/(gamma**2*(sqrt(1 + 4*lambda**2/gamma**2) + 1 + 2*lambda**2/gamma**2))"
      ]
     },
     "execution_count": 77,
     "metadata": {},
     "output_type": "execute_result"
    }
   ],
   "source": [
    "transmissivity_paper = 2 * lam**2 / gamma**2 / (1 + sp.sqrt(1 + 4 * lam**2 / gamma**2) + 2 * lam**2/gamma**2)\n",
    "transmissivity_paper"
   ]
  },
  {
   "cell_type": "code",
   "execution_count": 78,
   "id": "6e5ec39a-1327-4012-b686-ac2b1139b5d6",
   "metadata": {},
   "outputs": [],
   "source": [
    "assert sp.simplify(transmissivity_opt - transmissivity_paper) == 0"
   ]
  },
  {
   "cell_type": "markdown",
   "id": "8abd3509-0e33-4b9b-84d4-5cefbc4c3042",
   "metadata": {},
   "source": [
    "The strong/weak gravity limits are:"
   ]
  },
  {
   "cell_type": "code",
   "execution_count": 79,
   "id": "dae29dd5-0990-438d-a3e1-950d6d2470b5",
   "metadata": {},
   "outputs": [
    {
     "data": {
      "text/latex": [
       "$\\displaystyle 1 - \\frac{\\gamma}{\\lambda} + O\\left(\\gamma^{2}\\right)$"
      ],
      "text/plain": [
       "1 - gamma/lambda + O(gamma**2)"
      ]
     },
     "execution_count": 79,
     "metadata": {},
     "output_type": "execute_result"
    }
   ],
   "source": [
    "transmissivity_paper.series(gamma, 0, 2)"
   ]
  },
  {
   "cell_type": "code",
   "execution_count": 80,
   "id": "84a801fb-4756-407b-afd3-54e7d3b84b4f",
   "metadata": {},
   "outputs": [
    {
     "data": {
      "text/latex": [
       "$\\displaystyle \\frac{\\lambda^{2}}{\\gamma^{2}} + O\\left(\\lambda^{3}\\right)$"
      ],
      "text/plain": [
       "lambda**2/gamma**2 + O(lambda**3)"
      ]
     },
     "execution_count": 80,
     "metadata": {},
     "output_type": "execute_result"
    }
   ],
   "source": [
    "transmissivity_paper.series(lam, 0, 3)"
   ]
  },
  {
   "cell_type": "markdown",
   "id": "58219c82-d134-4ca9-b4f6-87754f0f84a0",
   "metadata": {},
   "source": [
    "## Optimal coefficients\n",
    "\n",
    "We now evaluate the optimal input-output coefficients at $g=g_{\\rm opt}$ and $\\omega=0$."
   ]
  },
  {
   "cell_type": "code",
   "execution_count": 81,
   "id": "ae1fbbae-11e7-4705-a661-1d48f8527fab",
   "metadata": {},
   "outputs": [
    {
     "data": {
      "text/latex": [
       "$\\displaystyle - \\frac{2 \\sqrt{\\gamma} \\lambda \\sqrt[4]{\\gamma^{2} + 4 \\lambda^{2}}}{\\gamma^{2} + \\gamma \\sqrt{\\gamma^{2} + 4 \\lambda^{2}} + 4 \\lambda^{2}}$"
      ],
      "text/plain": [
       "-2*sqrt(gamma)*lambda*(gamma**2 + 4*lambda**2)**(1/4)/(gamma**2 + gamma*sqrt(gamma**2 + 4*lambda**2) + 4*lambda**2)"
      ]
     },
     "execution_count": 81,
     "metadata": {},
     "output_type": "execute_result"
    }
   ],
   "source": [
    "sp.simplify(beta_1.subs(omega, 0).subs(g, g_opt[0]))"
   ]
  },
  {
   "cell_type": "code",
   "execution_count": 82,
   "id": "731061f7-02ac-4ade-936e-04d1f8e95cb8",
   "metadata": {},
   "outputs": [
    {
     "data": {
      "text/latex": [
       "$\\displaystyle \\frac{i \\sqrt{\\gamma} \\left(- \\gamma - \\sqrt{\\gamma^{2} + 4 \\lambda^{2}}\\right) \\sqrt[4]{\\gamma^{2} + 4 \\lambda^{2}}}{\\gamma^{2} + \\gamma \\sqrt{\\gamma^{2} + 4 \\lambda^{2}} + 4 \\lambda^{2}}$"
      ],
      "text/plain": [
       "I*sqrt(gamma)*(-gamma - sqrt(gamma**2 + 4*lambda**2))*(gamma**2 + 4*lambda**2)**(1/4)/(gamma**2 + gamma*sqrt(gamma**2 + 4*lambda**2) + 4*lambda**2)"
      ]
     },
     "execution_count": 82,
     "metadata": {},
     "output_type": "execute_result"
    }
   ],
   "source": [
    "sp.simplify(beta_2.subs(omega, 0).subs(g, g_opt[0]))"
   ]
  },
  {
   "cell_type": "code",
   "execution_count": 83,
   "id": "19f552a9-c43c-4498-b755-f480555ea32f",
   "metadata": {},
   "outputs": [
    {
     "data": {
      "text/latex": [
       "$\\displaystyle \\frac{2 \\lambda \\sqrt{- \\gamma^{2} - 4 \\lambda^{2}}}{\\gamma^{2} + \\gamma \\sqrt{\\gamma^{2} + 4 \\lambda^{2}} + 4 \\lambda^{2}}$"
      ],
      "text/plain": [
       "2*lambda*sqrt(-gamma**2 - 4*lambda**2)/(gamma**2 + gamma*sqrt(gamma**2 + 4*lambda**2) + 4*lambda**2)"
      ]
     },
     "execution_count": 83,
     "metadata": {},
     "output_type": "execute_result"
    }
   ],
   "source": [
    "sp.simplify(alpha_1.subs(omega, 0).subs(g, g_opt[0]))"
   ]
  },
  {
   "cell_type": "code",
   "execution_count": 84,
   "id": "5687d07a-2604-46f1-8464-da250e4d9ccb",
   "metadata": {},
   "outputs": [
    {
     "data": {
      "text/latex": [
       "$\\displaystyle 0$"
      ],
      "text/plain": [
       "0"
      ]
     },
     "execution_count": 84,
     "metadata": {},
     "output_type": "execute_result"
    }
   ],
   "source": [
    "sp.simplify(alpha_2.subs(omega, 0).subs(g, g_opt[0]))"
   ]
  },
  {
   "cell_type": "markdown",
   "id": "73d9f43a-84c1-4135-a1da-58e4ddc98cb5",
   "metadata": {},
   "source": [
    "Note that $\\alpha_2=0$ for optimized parameters. This means that the optimal gravity-induced channel is obtained at zero reflection."
   ]
  },
  {
   "cell_type": "markdown",
   "id": "46880344-4e81-47f4-9edc-7d58200725e5",
   "metadata": {},
   "source": [
    "## Optimal effective occupation number"
   ]
  },
  {
   "cell_type": "markdown",
   "id": "5da1e0e3-f457-4443-9a55-bf71ade633fc",
   "metadata": {},
   "source": [
    "We have laready shown that the gravity-induced channel is equivalent to a thermal attenuator with:\n",
    "$$\n",
    "\\eta= |\\alpha_1|^2, \\qquad N= (|\\beta_1|^2 + |\\beta_2|^2) N_{T}/(1 - \\eta).\n",
    "$$\n",
    "So the value of $N$ achieved at the optimal $g=g_{\\rm opt}$ and $\\omega=0$ is the following."
   ]
  },
  {
   "cell_type": "code",
   "execution_count": 85,
   "id": "dbc815c3-a27a-4fa6-a1e9-435b1c0a2b6d",
   "metadata": {},
   "outputs": [
    {
     "data": {
      "text/latex": [
       "$\\displaystyle N_{T}$"
      ],
      "text/plain": [
       "N_{T}"
      ]
     },
     "execution_count": 85,
     "metadata": {},
     "output_type": "execute_result"
    }
   ],
   "source": [
    "noise_opt = sp.simplify(noise.subs(omega, 0).subs(g, g_opt[0]))\n",
    "occupation_number_opt = sp.simplify(noise_opt / (1 - transmissivity_paper))\n",
    "occupation_number_opt"
   ]
  },
  {
   "cell_type": "markdown",
   "id": "2bae3d97-c945-47fa-b8c2-9b1099eef73e",
   "metadata": {},
   "source": [
    "So the effective occupation number of the optimal gravity-induced channel reduces to the real occupation number of the mechanical resonators!"
   ]
  },
  {
   "cell_type": "markdown",
   "id": "24525a11-efbc-4e7d-8f03-95d7d1ad4953",
   "metadata": {},
   "source": [
    "## Optimize also over the frequency"
   ]
  },
  {
   "cell_type": "markdown",
   "id": "ecd4736c-ec7e-4f4a-bc20-7406a250937a",
   "metadata": {},
   "source": [
    "Now we show that the case $\\omega=0$ is indeed optimal. We show this by trying to optimize over $\\omega$ without obtaining better results."
   ]
  },
  {
   "cell_type": "code",
   "execution_count": 86,
   "id": "c50a01fb-3c45-4d49-a47c-ced8b5653965",
   "metadata": {},
   "outputs": [
    {
     "data": {
      "text/latex": [
       "$\\displaystyle \\frac{16 g^{2} \\kappa \\lambda^{2}}{N_{T} \\gamma \\left(16 g^{4} + 8 g^{2} \\gamma \\kappa - 32 g^{2} \\omega^{2} + \\gamma^{2} \\kappa^{2} + 4 \\gamma^{2} \\omega^{2} + 4 \\kappa^{2} \\omega^{2} + 4 \\lambda^{2} \\left(\\kappa^{2} + 4 \\omega^{2}\\right) + 16 \\omega^{4}\\right)}$"
      ],
      "text/plain": [
       "16*g**2*kappa*lambda**2/(N_{T}*gamma*(16*g**4 + 8*g**2*gamma*kappa - 32*g**2*omega**2 + gamma**2*kappa**2 + 4*gamma**2*omega**2 + 4*kappa**2*omega**2 + 4*lambda**2*(kappa**2 + 4*omega**2) + 16*omega**4))"
      ]
     },
     "execution_count": 86,
     "metadata": {},
     "output_type": "execute_result"
    }
   ],
   "source": [
    "ratio_w = sp.simplify((transmissivity/noise))\n",
    "ratio_w    "
   ]
  },
  {
   "cell_type": "code",
   "execution_count": 87,
   "id": "94d35066-153b-4ddf-9ae1-9545460e113d",
   "metadata": {},
   "outputs": [
    {
     "data": {
      "text/plain": [
       "[0,\n",
       " -sqrt(16*g**2 - 2*gamma**2 - 2*kappa**2 - 8*lambda**2)/4,\n",
       " sqrt(16*g**2 - 2*gamma**2 - 2*kappa**2 - 8*lambda**2)/4]"
      ]
     },
     "execution_count": 87,
     "metadata": {},
     "output_type": "execute_result"
    }
   ],
   "source": [
    "w_opt = sp.solve(sp.simplify(sp.derive_by_array(ratio_w, omega)), omega)\n",
    "w_opt"
   ]
  },
  {
   "cell_type": "markdown",
   "id": "01e8ac1a-0cec-4361-9bbd-c0a4009bf193",
   "metadata": {},
   "source": [
    "We already studied the critical point $\\omega=0$. Since the ratio is even in $\\omega$, we just need to check just one nonzero critical frequency."
   ]
  },
  {
   "cell_type": "code",
   "execution_count": 88,
   "id": "024aa356-4acf-46da-be26-4cfd9c7623fe",
   "metadata": {},
   "outputs": [
    {
     "data": {
      "text/latex": [
       "$\\displaystyle \\frac{64 g^{2} \\kappa \\lambda^{2}}{N_{T} \\gamma \\left(16 g^{2} \\gamma^{2} + 32 g^{2} \\gamma \\kappa + 16 g^{2} \\kappa^{2} + 64 g^{2} \\lambda^{2} - \\gamma^{4} + 2 \\gamma^{2} \\kappa^{2} - 8 \\gamma^{2} \\lambda^{2} - \\kappa^{4} + 8 \\kappa^{2} \\lambda^{2} - 16 \\lambda^{4}\\right)}$"
      ],
      "text/plain": [
       "64*g**2*kappa*lambda**2/(N_{T}*gamma*(16*g**2*gamma**2 + 32*g**2*gamma*kappa + 16*g**2*kappa**2 + 64*g**2*lambda**2 - gamma**4 + 2*gamma**2*kappa**2 - 8*gamma**2*lambda**2 - kappa**4 + 8*kappa**2*lambda**2 - 16*lambda**4))"
      ]
     },
     "execution_count": 88,
     "metadata": {},
     "output_type": "execute_result"
    }
   ],
   "source": [
    "ratio_wopt = sp.simplify(ratio_w.subs(omega, w_opt[2]))\n",
    "ratio_wopt"
   ]
  },
  {
   "cell_type": "markdown",
   "id": "f01655ba-1bbc-47f6-860a-eda6c323a2a9",
   "metadata": {},
   "source": [
    "The ratio is monotonic in $g$, therefore the critical points for $g$ are either the smallest value (i.e., the min $g$ such that the square root in the formula for the optimal $\\omega$ is real) or the maximum $g$ such that the RWA is still valid. The minimum $g$ would correspond to $\\omega_{\\rm opt}=0$ and so it cannot be better than what we already found in the $\\omega=0$ analysis.\n",
    "\n",
    "The only potential candidate is the limit $g \\rightarrow \\infty$."
   ]
  },
  {
   "cell_type": "code",
   "execution_count": 89,
   "id": "725bb7bf-a7d5-4985-9086-b4f97c61ab18",
   "metadata": {},
   "outputs": [
    {
     "data": {
      "text/latex": [
       "$\\displaystyle \\frac{64 \\kappa \\lambda^{2}}{N_{T} \\gamma \\left(16 \\gamma^{2} + 32 \\gamma \\kappa + 16 \\kappa^{2} + 64 \\lambda^{2}\\right)}$"
      ],
      "text/plain": [
       "64*kappa*lambda**2/(N_{T}*gamma*(16*gamma**2 + 32*gamma*kappa + 16*kappa**2 + 64*lambda**2))"
      ]
     },
     "execution_count": 89,
     "metadata": {},
     "output_type": "execute_result"
    }
   ],
   "source": [
    "ratio_opt_peak = sp.limit(ratio_wopt, g, sp.oo)\n",
    "ratio_opt_peak"
   ]
  },
  {
   "cell_type": "markdown",
   "id": "aacda6f3-e5e5-4db7-b549-cb4e0260d34d",
   "metadata": {},
   "source": [
    "We can further optimize with respect to $\\kappa_A$:"
   ]
  },
  {
   "cell_type": "code",
   "execution_count": 90,
   "id": "4af3d226-b881-43c3-a068-6c7b5f864096",
   "metadata": {},
   "outputs": [
    {
     "data": {
      "text/plain": [
       "[sqrt(gamma**2 + 4*lambda**2)]"
      ]
     },
     "execution_count": 90,
     "metadata": {},
     "output_type": "execute_result"
    }
   ],
   "source": [
    "kappa_opt  = sp.solve(sp.simplify(sp.derive_by_array(ratio_opt_peak, kappa)), kappa)\n",
    "kappa_opt"
   ]
  },
  {
   "cell_type": "code",
   "execution_count": 91,
   "id": "86e95e93-f07d-4964-a66a-d0d7ce8ef9fe",
   "metadata": {},
   "outputs": [
    {
     "data": {
      "text/latex": [
       "$\\displaystyle \\frac{\\sqrt{4 g^{2} - \\gamma^{2} - 4 \\lambda^{2}}}{2}$"
      ],
      "text/plain": [
       "sqrt(4*g**2 - gamma**2 - 4*lambda**2)/2"
      ]
     },
     "execution_count": 91,
     "metadata": {},
     "output_type": "execute_result"
    }
   ],
   "source": [
    "sp.simplify(w_opt[2].subs(kappa, kappa_opt[0]))"
   ]
  },
  {
   "cell_type": "code",
   "execution_count": 92,
   "id": "e0290af1-6cee-437c-a2df-26360d968752",
   "metadata": {},
   "outputs": [
    {
     "data": {
      "text/latex": [
       "$\\displaystyle \\frac{2 \\lambda^{2} \\sqrt{\\gamma^{2} + 4 \\lambda^{2}}}{N_{T} \\gamma \\left(\\gamma^{2} + \\gamma \\sqrt{\\gamma^{2} + 4 \\lambda^{2}} + 4 \\lambda^{2}\\right)}$"
      ],
      "text/plain": [
       "2*lambda**2*sqrt(gamma**2 + 4*lambda**2)/(N_{T}*gamma*(gamma**2 + gamma*sqrt(gamma**2 + 4*lambda**2) + 4*lambda**2))"
      ]
     },
     "execution_count": 92,
     "metadata": {},
     "output_type": "execute_result"
    }
   ],
   "source": [
    "ratio_peak_fully_optimized = sp.simplify(ratio_opt_peak.subs(kappa, kappa_opt[0]))\n",
    "ratio_peak_fully_optimized"
   ]
  },
  {
   "cell_type": "markdown",
   "id": "25666aba-d880-49fc-9c92-2f0be2cd3c38",
   "metadata": {},
   "source": [
    "But this is exactly equal to the optimal ratio that we computed at $\\omega=0$. Let us check this:"
   ]
  },
  {
   "cell_type": "code",
   "execution_count": 93,
   "id": "49c23cd8-18b1-4825-a69b-7f08e63862de",
   "metadata": {},
   "outputs": [],
   "source": [
    "assert ratio_peak_fully_optimized - ratio_opt == 0"
   ]
  },
  {
   "cell_type": "markdown",
   "id": "1e22ce08-2b84-4ee1-a42d-4cff9f04aa93",
   "metadata": {},
   "source": [
    "So we conclude there is no advantage in searching for a better transmissivity-to-noise ratio at $\\omega\\neq 0$."
   ]
  },
  {
   "cell_type": "markdown",
   "id": "a5e523cf-1d08-463b-8d13-bcc808e35006",
   "metadata": {},
   "source": [
    "## Numerical plot of gravitationally-induced transparency (GIT) and non-classicality condition\n",
    "\n",
    "In this plot we analyze the GIT channel and its non-classicality in the frequency domain.\n",
    "In particular we plot the effective transmissivity $\\eta(\\omega)=|\\alpha_1|^2$ and the effective thermal output noise $(1 -\\eta(\\omega))N(\\omega)=(|\\beta_1|^2 + |\\beta_2|^2)N_T$ of the gravity-induced channel. When the transmissivity is larger than the output noise, the channel is non-classical (i.e. non-entanglement-breaking)."
   ]
  },
  {
   "cell_type": "code",
   "execution_count": 97,
   "id": "c75ecfac-d6b4-4133-923d-1a516daf10d1",
   "metadata": {},
   "outputs": [
    {
     "name": "stdout",
     "output_type": "stream",
     "text": [
      "w_G: 0.000821667 Hz\n",
      "w_T: 1.309e+08 Hz\n"
     ]
    }
   ],
   "source": [
    "# Physical constants and parameters\n",
    "hbar = 1.055 * 1E-34\n",
    "kB = 1.381 * 1E-23\n",
    "G = 6.674 * 1E-11\n",
    "rho_gold = 19320\n",
    "temp = 1.0E-3\n",
    "# Gravitational critical frequency (see Appendix C for its analytic derivation)\n",
    "w_G = np.sqrt((np.pi / 6) * G * rho_gold)\n",
    "# Environmental critical frequency (see Appendix C for its analytic derivation)\n",
    "w_T =  kB * temp / hbar\n",
    "print(f\"w_G: {w_G:n} Hz\")\n",
    "print(f\"w_T: {w_T:n} Hz\")"
   ]
  },
  {
   "cell_type": "code",
   "execution_count": 98,
   "id": "3422aa94-6b2c-46e0-9cad-fe21e0a790e4",
   "metadata": {},
   "outputs": [
    {
     "data": {
      "image/png": "[encoded data removed]",
      "text/plain": [
       "<Figure size 700x300 with 1 Axes>"
      ]
     },
     "metadata": {},
     "output_type": "display_data"
    }
   ],
   "source": [
    "mech_frequency = 0.03 # Mechanical frequency in Hz\n",
    "quality_factor = 1E14\n",
    "omega_b = 2 * np.pi * mech_frequency\n",
    "lamda_num = w_G**2 / omega_b\n",
    "gamma_num = omega_b / quality_factor\n",
    "kappa_num = 0.1 * omega_b\n",
    "mechanical_photon_number = 1 / (np.exp(omega_b / w_T) - 1)\n",
    "g_num = 1 * (np.sqrt(kappa_num) * (4 * (lamda_num**2)  +  gamma_num**2)**(1/4)) / 2\n",
    "\n",
    "linewidth = gamma_num + np.sqrt(gamma_num**2 + 4*lamda_num**2)\n",
    "\n",
    "# Assignments of numerical parameters to SymPy variables\n",
    "params = {\n",
    "    kappa: kappa_num,\n",
    "    gamma: gamma_num,\n",
    "    g: g_num,\n",
    "    lam: lamda_num,\n",
    "    N_T: mechanical_photon_number,\n",
    "}\n",
    "\n",
    "noise_omega = noise.subs(params)\n",
    "transmissivity_omega = transmissivity.subs(params)\n",
    "\n",
    "# Convert to 1-D NumPy function\n",
    "noise_omega_np = sp.lambdify(omega, noise_omega)\n",
    "transmissivity_omega_np = sp.lambdify(omega, transmissivity_omega)\n",
    "\n",
    "\n",
    "# Plotting style settings\n",
    "plt.rcParams.update({\n",
    "    \"text.usetex\": True,\n",
    "})\n",
    "plt.rcParams.update({\"font.family\": \"serif\", \"font.size\": 14})\n",
    "\n",
    "\n",
    "fig = plt.figure(figsize=(7, 3))\n",
    "\n",
    "omegas = np.linspace(-9 * params[lam], 11 *params[lam], 5000)\n",
    "plt.plot(omegas, transmissivity_omega_np(omegas), label=\"Transmissivity: $\\eta$\", linewidth=2)\n",
    "plt.plot(omegas, noise_omega_np(omegas), label=\"Output noise: $N (1- \\eta)$\", color=\"red\", linestyle=\"dashed\", linewidth=2)\n",
    "\n",
    "# Find non-classicality crossing point\n",
    "w_cross = None\n",
    "for w, t, n, in zip(omegas, transmissivity_omega_np(omegas), noise_omega_np(omegas)):\n",
    "    if (w_cross is None) and t > n:\n",
    "        w_cross = w\n",
    "        \n",
    "# Highlight non-classicality region\n",
    "if w_cross:        \n",
    "    plt.axvspan(-w_cross, w_cross, color='green', alpha=0.1, label=\"Non-classical region\", linewidth=0)\n",
    "\n",
    "# Highlight GIT bandwidth\n",
    "plt.axvline(-linewidth/2, color='gray', alpha=0.7, linestyle=\"dotted\", label=\"$\\omega=\\\\pm \\gamma_{\\\\rm opt}^{\\\\rm (eff)}/2$\", linewidth=2)\n",
    "plt.axvline(linewidth/2, color='gray', alpha=0.7, linestyle=\"dotted\", linewidth=2)\n",
    "\n",
    "\n",
    "# plt.xlabel(\"$\\\\omega - (\\\\omega_{\\\\rm pump}+ \\omega_{\\\\rm B}) \\; [{\\\\rm Hz}]$\")\n",
    "plt.xlabel(\"$\\\\omega \\; [{\\\\rm Hz}]$\")\n",
    "plt.legend()\n",
    "\n",
    "plt.tight_layout()\n",
    "fig.savefig(fname=\"GIT.pdf\", dpi=300, bbox_inches='tight')"
   ]
  },
  {
   "cell_type": "markdown",
   "id": "78510a34-890a-4a24-877b-0bc5d3085ad2",
   "metadata": {},
   "source": [
    "Physical parameters used in this plot:"
   ]
  },
  {
   "cell_type": "code",
   "execution_count": 51,
   "id": "da762ea2-7665-482d-911b-b378847d88f2",
   "metadata": {},
   "outputs": [
    {
     "data": {
      "text/plain": [
       "{kappa: 0.01884955592153876,\n",
       " gamma: 1.8849555921538756e-15,\n",
       " g: 0.00018373038095479424,\n",
       " lambda: 3.5817133333333332e-06,\n",
       " N_{T}: 694448563.1964276}"
      ]
     },
     "execution_count": 51,
     "metadata": {},
     "output_type": "execute_result"
    }
   ],
   "source": [
    "params"
   ]
  },
  {
   "cell_type": "markdown",
   "id": "fc1bc0fe-4159-4ee6-838b-982201aac80a",
   "metadata": {},
   "source": [
    "## Refs"
   ]
  },
  {
   "cell_type": "markdown",
   "id": "549b288e-a28e-4e06-b328-dd8eb09702a5",
   "metadata": {},
   "source": [
    "[1] M. Horodecki, P. W. Shor, and M. B. Ruskai, “Entanglement breaking channels,” Rev. Math. Phys. 15, 629–641 (2003). \n",
    "\n",
    "[2] S. Khatri, M. M. Wilde, Principles of quantum communication theory: A modern approach, arXiv:2011.04672 (2020).\n",
    "\n",
    "[3] A. S. Holevo, \"Entanglement-breaking channels in infinite dimensions.\" Problems of Information Transmission 44 (2008).\n",
    "\n",
    "[4] K. Farzad, M. Fanizza, and V. Giovannetti, \"Low-ground/High ground capacity regions analysis for Bosonic Gaussian Channels.\", arXiv:2306.16350 (2023).\n",
    "\n",
    "[5] F. A. Mele, L. Lami, and V. Giovannetti, \"Maximum tolerable excess noise in CV-QKD and improved lower bound on two-way capacities.\" arXiv preprint arXiv:2303.12867 (2023)."
   ]
  }
 ],
 "metadata": {
  "kernelspec": {
   "display_name": "Python 3 (ipykernel)",
   "language": "python",
   "name": "python3"
  },
  "language_info": {
   "codemirror_mode": {
    "name": "ipython",
    "version": 3
   },
   "file_extension": ".py",
   "mimetype": "text/x-python",
   "name": "python",
   "nbconvert_exporter": "python",
   "pygments_lexer": "ipython3",
   "version": "3.11.7"
  }
 },
 "nbformat": 4,
 "nbformat_minor": 5
}
